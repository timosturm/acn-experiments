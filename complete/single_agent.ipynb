{
 "cells": [
  {
   "cell_type": "code",
   "execution_count": null,
   "metadata": {
    "collapsed": false
   },
   "outputs": [
    {
     "ename": "ModuleNotFoundError",
     "evalue": "No module named 'acn_experiments'",
     "output_type": "error",
     "traceback": [
      "\u001b[0;31m---------------------------------------------------------------------------\u001b[0m",
      "\u001b[0;31mModuleNotFoundError\u001b[0m                       Traceback (most recent call last)",
      "Cell \u001b[0;32mIn[1], line 5\u001b[0m\n\u001b[1;32m      2\u001b[0m \u001b[38;5;28;01mfrom\u001b[39;00m \u001b[38;5;21;01mtqdm\u001b[39;00m \u001b[38;5;28;01mimport\u001b[39;00m tqdm\n\u001b[1;32m      3\u001b[0m \u001b[38;5;28;01mfrom\u001b[39;00m \u001b[38;5;21;01mray\u001b[39;00m\u001b[38;5;21;01m.\u001b[39;00m\u001b[38;5;21;01mutil\u001b[39;00m\u001b[38;5;21;01m.\u001b[39;00m\u001b[38;5;21;01mclient\u001b[39;00m \u001b[38;5;28;01mimport\u001b[39;00m ray\n\u001b[0;32m----> 5\u001b[0m \u001b[38;5;28;01mfrom\u001b[39;00m \u001b[38;5;21;01macn_experiments\u001b[39;00m\u001b[38;5;21;01m.\u001b[39;00m\u001b[38;5;21;01mrun_simulation\u001b[39;00m \u001b[38;5;28;01mimport\u001b[39;00m run_simulations, metrics\n\u001b[1;32m      7\u001b[0m ray\u001b[38;5;241m.\u001b[39minit(_memory\u001b[38;5;241m=\u001b[39m\u001b[38;5;241m16\u001b[39m \u001b[38;5;241m*\u001b[39m \u001b[38;5;241m1024\u001b[39m \u001b[38;5;241m*\u001b[39m\u001b[38;5;241m*\u001b[39m \u001b[38;5;241m3\u001b[39m, num_cpus\u001b[38;5;241m=\u001b[39m\u001b[38;5;241m8\u001b[39m, num_gpus\u001b[38;5;241m=\u001b[39m\u001b[38;5;241m0\u001b[39m, ignore_reinit_error\u001b[38;5;241m=\u001b[39m\u001b[38;5;28;01mTrue\u001b[39;00m)\n",
      "\u001b[0;31mModuleNotFoundError\u001b[0m: No module named 'acn_experiments'"
     ]
    }
   ],
   "source": [
    "from datetime import datetime, timedelta\n",
    "from tqdm import tqdm\n",
    "from ray.util.client import ray\n",
    "\n",
    "from run_simulation import run_simulations, metrics\n",
    "\n",
    "ray.init(_memory=16 * 1024 ** 3, num_cpus=8, num_gpus=0, ignore_reinit_error=True)"
   ]
  },
  {
   "cell_type": "code",
   "execution_count": null,
   "metadata": {},
   "outputs": [],
   "source": [
    "from gymportal.data.ev_generators import get_standard_generator, RealWorldGenerator\n",
    "from acnportal.acnsim import Linear2StageBattery\n",
    "from gymportal.data.battery_generators import CustomizableBatteryGenerator\n",
    "from gymportal.sim import get_charging_network, Recomputer, EvaluationSimulator, SimGenerator\n",
    "from icecream import ic\n",
    "\n",
    "charging_network = get_charging_network('simple_acn', basic_evse=True, voltage=208,\n",
    "                                        network_kwargs={\n",
    "                                            'station_ids': ['CA-504', 'CA-503', 'CA-502', 'CA-501'],\n",
    "                                            # 'station_ids': ['CA-504'],\n",
    "\"aggregate_cap\": 32 * 208 / 1000})\n",
    "\n",
    "# charging_network = get_charging_network('caltech', basic_evse=True, voltage=208,\n",
    "#                                         network_kwargs={\"transformer_cap\": 40 * 32 * 208 / 1000})\n",
    "\n",
    "battery_generator = CustomizableBatteryGenerator(voltage=208,\n",
    "                                                 period=1,\n",
    "                                                 battery_types=[\n",
    "                                                     Linear2StageBattery],\n",
    "                                                 max_power_function='normal')\n",
    "\n",
    "ev_generator = RealWorldGenerator(battery_generator=battery_generator, site='caltech', period=1, seed=42)\n",
    "# ev_generator = get_standard_generator('caltech', battery_generator, seed=42)\n",
    "\n",
    "train_generator = SimGenerator(\n",
    "    charging_network=charging_network,\n",
    "    simulation_days=7,\n",
    "    n_intervals=46,\n",
    "    start_date=datetime(2019, 1, 1),\n",
    "    ev_generator=ev_generator,\n",
    "    recomputer=Recomputer(recompute_interval=10, sparse=True),\n",
    "    sim_class=EvaluationSimulator,\n",
    ")\n",
    "\n",
    "ic(train_generator.end_date + timedelta(days=1))\n",
    "\n",
    "eval_generator = SimGenerator(\n",
    "    charging_network=charging_network,\n",
    "    simulation_days=14,\n",
    "    n_intervals=1,\n",
    "    start_date=train_generator.end_date + timedelta(days=1),\n",
    "    ev_generator=ev_generator,\n",
    "    recomputer=Recomputer(recompute_interval=10, sparse=True),\n",
    "    sim_class=EvaluationSimulator,\n",
    ")\n",
    "\n",
    "ic(eval_generator.end_date + timedelta(days=1))\n",
    "\n",
    "validation_generator = SimGenerator(\n",
    "    charging_network=charging_network,\n",
    "    simulation_days=14,\n",
    "    n_intervals=1,\n",
    "    start_date=eval_generator.end_date + timedelta(days=1),\n",
    "    ev_generator=ev_generator,\n",
    "    recomputer=Recomputer(recompute_interval=10, sparse=True),\n",
    "    sim_class=EvaluationSimulator,\n",
    ")\n",
    "\n",
    "ic(validation_generator.end_date + timedelta(days=1))\n",
    "pass"
   ]
  },
  {
   "cell_type": "code",
   "execution_count": null,
   "metadata": {},
   "outputs": [],
   "source": [
    "from gymportal.environment import *\n",
    "\n",
    "observation_objects = [\n",
    "    charging_rates_observation_normalized(),\n",
    "    percentage_of_magnitude_observation(),\n",
    "    diff_pilots_charging_rates_observation_normalized(),\n",
    "    cyclical_minute_observation(),\n",
    "    cyclical_day_observation(),\n",
    "    cyclical_month_observation(),\n",
    "    cyclical_minute_observation_stay(),\n",
    "    energy_delivered_observation_normalized(),\n",
    "    num_active_stations_observation_normalized(),\n",
    "    pilot_signals_observation_normalized(),\n",
    "    cyclical_minute_observation_arrival(),\n",
    "    cyclical_day_observation_arrival(),\n",
    "    cyclical_month_observation_arrival(),\n",
    "]\n",
    "\n",
    "reward_objects = [\n",
    "    # current_constraint_violation(),\n",
    "    # soft_charging_reward(),\n",
    "    constraint_charging_reward(),\n",
    "    # pilot_charging_rate_difference_penalty(),\n",
    "]"
   ]
  },
  {
   "cell_type": "code",
   "execution_count": null,
   "metadata": {},
   "outputs": [],
   "source": [
    "from extra import unplug_penalty, ranking_schedule\n",
    "\n",
    "train_config = {\"observation_objects\": observation_objects,\n",
    "                \"action_object\": zero_centered_single_charging_schedule_normalized(),\n",
    "                \"reward_objects\": [unplug_penalty(), constraint_charging_reward()],\n",
    "                \"simgenerator\": train_generator,\n",
    "                \"meet_constraints\": True}\n",
    "\n",
    "eval_config = train_config | {'simgenerator': eval_generator}\n",
    "validation_config = train_config | {'simgenerator': validation_generator}"
   ]
  },
  {
   "cell_type": "code",
   "execution_count": null,
   "metadata": {
    "collapsed": false
   },
   "outputs": [],
   "source": [
    "from gymportal.auxilliaries.callbacks import MetricsCallback\n",
    "from ray.rllib.algorithms.ppo import PPOConfig\n",
    "\n",
    "# lr_schedule = [[0, 5e-5], [int(1e20), 5e-ranking]]\n",
    "\n",
    "config = (\n",
    "    PPOConfig()\n",
    "    .environment('single_agent_env', env_config=train_config)\n",
    "    .rollouts(num_rollout_workers=1)\n",
    "    .framework(\"tf2\")\n",
    "    .evaluation(evaluation_num_workers=1, evaluation_interval=3)\n",
    "    .training(use_kl_loss=False, kl_coeff=0.0)\n",
    "    # .training(lr_schedule=lr_schedule)\n",
    "    # .exploration(explore=False, exploration_config={\"type\": \"StochasticSampling\"})\n",
    "    .callbacks(MetricsCallback)\n",
    ")"
   ]
  },
  {
   "cell_type": "code",
   "execution_count": null,
   "metadata": {},
   "outputs": [],
   "source": [
    "algo = config.build()"
   ]
  },
  {
   "cell_type": "code",
   "execution_count": null,
   "metadata": {
    "collapsed": false
   },
   "outputs": [],
   "source": [
    "# #algo = config.build()\n",
    "# from ray.rllib.algorithms.algorithm import Algorithm\n",
    "\n",
    "# algo = Algorithm.from_checkpoint(\"PPO_check\")"
   ]
  },
  {
   "cell_type": "code",
   "execution_count": null,
   "metadata": {},
   "outputs": [],
   "source": [
    "from gymportal.evaluation import ACNSchedule, RllibSchedule\n",
    "from acnportal.algorithms import UncontrolledCharging, SortedSchedulingAlgo, last_come_first_served, \\\n",
    "    first_come_first_served\n",
    "\n",
    "models = {\n",
    "    \"PPO\": RllibSchedule(algo),\n",
    "    # \"FCFS\": ACNSchedule(SortedSchedulingAlgo(first_come_first_served)),\n",
    "    \"LCFS\": ACNSchedule(SortedSchedulingAlgo(last_come_first_served)),\n",
    "    # \"Uncontrolled\": ACNSchedule(UncontrolledCharging()),\n",
    "}"
   ]
  },
  {
   "cell_type": "code",
   "execution_count": null,
   "metadata": {},
   "outputs": [],
   "source": [
    "df = run_simulations(models, metrics=metrics, config=validation_config)\n",
    "df"
   ]
  },
  {
   "cell_type": "code",
   "execution_count": null,
   "metadata": {},
   "outputs": [],
   "source": [
    "df.to_csv(\"before.csv\")\n",
    "ax = df.plot.bar()\n",
    "fig = ax.get_figure()\n",
    "fig.savefig(\"before.png\", dpi=600)"
   ]
  },
  {
   "cell_type": "code",
   "execution_count": null,
   "metadata": {},
   "outputs": [],
   "source": [
    "res = []\n",
    "\n",
    "for i in tqdm(range(2), desc='training iteration'):\n",
    "    res.append(algo.train())\n",
    "\n",
    "    algo.save(checkpoint_dir=f\"{algo}_check\")"
   ]
  },
  {
   "cell_type": "code",
   "execution_count": null,
   "metadata": {},
   "outputs": [],
   "source": [
    "# from gymportal.plotting.plotting import plot_training\n",
    "\n",
    "# _ = plot_training(res).savefig(f\"{algo}\", dpi=600)"
   ]
  },
  {
   "cell_type": "code",
   "execution_count": null,
   "metadata": {},
   "outputs": [],
   "source": [
    "# plain     31:28\n",
    "# cython    33:21\n",
    "# v2        31:58"
   ]
  },
  {
   "cell_type": "code",
   "execution_count": null,
   "metadata": {},
   "outputs": [],
   "source": [
    "# from ray.rllib.algorithms import Algorithm\n",
    "# #algo = Algorithm.from_checkpoint(checkpoint_dir + \"/checkpoint_000001\")\n",
    "# \n",
    "# algo = Algorithm.from_checkpoint(\"PPO_check\")"
   ]
  },
  {
   "cell_type": "code",
   "execution_count": null,
   "metadata": {},
   "outputs": [],
   "source": [
    "# algo.evaluate()"
   ]
  },
  {
   "cell_type": "code",
   "execution_count": null,
   "metadata": {},
   "outputs": [],
   "source": [
    "eval_generator = SimGenerator(\n",
    "    charging_network=charging_network,\n",
    "    simulation_days=1,\n",
    "    n_intervals=1,\n",
    "    start_date=datetime(2019, 9, 23),\n",
    "    ev_generator=ev_generator,\n",
    "    recomputer=Recomputer(recompute_interval=10, sparse=True),\n",
    "    sim_class=EvaluationSimulator,\n",
    ")\n",
    "\n",
    "evaluation_config = train_config | {\"simgenerator\": eval_generator}"
   ]
  },
  {
   "cell_type": "code",
   "execution_count": null,
   "metadata": {},
   "outputs": [],
   "source": [
    "from gymportal.evaluation import evaluate_model\n",
    "\n",
    "eval_sim = evaluate_model(RllibSchedule(algo), env_type=SingleAgentSimEnv, env_config=evaluation_config)"
   ]
  },
  {
   "cell_type": "code",
   "execution_count": null,
   "metadata": {},
   "outputs": [],
   "source": [
    "from gymportal.plotting.plotting import plot_sim_evaluation\n",
    "\n",
    "_ = plot_sim_evaluation(eval_sim)"
   ]
  },
  {
   "cell_type": "code",
   "execution_count": null,
   "metadata": {},
   "outputs": [],
   "source": [
    "df = run_simulations(models, metrics=metrics, config=validation_config)\n",
    "df"
   ]
  },
  {
   "cell_type": "code",
   "execution_count": null,
   "metadata": {},
   "outputs": [],
   "source": [
    "df.to_csv(\"after.csv\")\n",
    "ax = df.plot.bar()\n",
    "fig = ax.get_figure()\n",
    "fig.savefig(\"after.png\", dpi=600)"
   ]
  }
 ],
 "metadata": {
  "kernelspec": {
   "display_name": "Python 3",
   "language": "python",
   "name": "python3"
  },
  "language_info": {
   "codemirror_mode": {
    "name": "ipython",
    "version": 3
   },
   "file_extension": ".py",
   "mimetype": "text/x-python",
   "name": "python",
   "nbconvert_exporter": "python",
   "pygments_lexer": "ipython3",
   "version": "3.9.18"
  }
 },
 "nbformat": 4,
 "nbformat_minor": 0
}
