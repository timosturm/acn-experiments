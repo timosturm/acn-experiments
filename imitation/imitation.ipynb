{
 "cells": [
  {
   "cell_type": "code",
   "execution_count": 1,
   "id": "7c59b719",
   "metadata": {},
   "outputs": [],
   "source": [
    "from src.imitation.dataset import MyDataset, TransformAction\n",
    "\n",
    "\n",
    "train_ds = MyDataset(\"FCFS_training.parquet.gzip\", transform=TransformAction())\n",
    "validation_ds = MyDataset(\n",
    "    \"FCFS_validation.parquet.gzip\", transform=TransformAction())"
   ]
  },
  {
   "cell_type": "code",
   "execution_count": 2,
   "id": "fcf5f797",
   "metadata": {},
   "outputs": [],
   "source": [
    "from torch.utils.data import DataLoader\n",
    "from src.imitation.utils import collate_to_float32\n",
    "\n",
    "\n",
    "train_loader = DataLoader(\n",
    "    train_ds,\n",
    "    batch_size=256,\n",
    "    shuffle=True,\n",
    "    collate_fn=collate_to_float32,\n",
    ")\n",
    "\n",
    "validation_loader = DataLoader(\n",
    "    validation_ds,\n",
    "    batch_size=256,\n",
    "    shuffle=False,\n",
    "    collate_fn=collate_to_float32,\n",
    ")"
   ]
  },
  {
   "cell_type": "code",
   "execution_count": null,
   "id": "9d1fce7b",
   "metadata": {},
   "outputs": [],
   "source": [
    "from src.cleanRL.agent import Agent\n",
    "import torch.optim as optim\n",
    "import torch\n",
    "import numpy as np\n",
    "\n",
    "learning_rate = 1e-5\n",
    "device = torch.device(\"cuda\" if torch.cuda.is_available() else \"cpu\")\n",
    "sample = train_ds[0]\n",
    "\n",
    "agent = Agent(\n",
    "    observation_shape=np.prod(sample[\"observation\"].shape),\n",
    "    action_shape=np.prod(sample[\"action\"].shape)\n",
    ").to(device)\n",
    "\n",
    "optimizer = optim.Adam(agent.parameters(), lr=learning_rate)"
   ]
  },
  {
   "cell_type": "code",
   "execution_count": 6,
   "id": "032063b3",
   "metadata": {},
   "outputs": [],
   "source": [
    "import torch.nn as nn\n",
    "actor_loss = nn.MSELoss()"
   ]
  },
  {
   "cell_type": "code",
   "execution_count": 7,
   "metadata": {},
   "outputs": [],
   "source": [
    "def calc_val_loss(agent, validation_loader):\n",
    "    actions = []\n",
    "\n",
    "    true_actions = []\n",
    "\n",
    "    for x in validation_loader:\n",
    "        action, log_prob, entropy, value = agent.get_action_and_value(\n",
    "            x[\"observation\"])\n",
    "\n",
    "        actions.append(action)\n",
    "        true_actions.append(x[\"action\"])\n",
    "\n",
    "    loss = actor_loss(torch.vstack(actions), torch.vstack(true_actions))\n",
    "\n",
    "    return loss.item()"
   ]
  },
  {
   "cell_type": "code",
   "execution_count": 8,
   "metadata": {},
   "outputs": [],
   "source": [
    "losses = []\n",
    "validation_losses = []\n",
    "val_steps = []\n",
    "\n",
    "epochs = 40\n",
    "for epoch in range(epochs):\n",
    "    for step, x in enumerate(train_loader):\n",
    "        action, _, _, _ = agent.get_action_and_value(x[\"observation\"])\n",
    "\n",
    "        loss = actor_loss(action, x[\"action\"])\n",
    "        losses.append(loss.item())\n",
    "\n",
    "        if step % 100 == 0:\n",
    "            agent.eval()\n",
    "            validation_losses.append(calc_val_loss(agent, validation_loader))\n",
    "            agent.train()\n",
    "            val_steps.append(step)\n",
    "\n",
    "        optimizer.zero_grad()\n",
    "        loss.backward()\n",
    "        optimizer.step()"
   ]
  },
  {
   "cell_type": "code",
   "execution_count": null,
   "metadata": {},
   "outputs": [],
   "source": [
    "import matplotlib.pyplot as plt\n",
    "N = 20\n",
    "\n",
    "plt.plot(losses, label=\"loss\")\n",
    "plt.plot(np.convolve(losses, np.ones(N)/N, mode='valid'), label=\"running avg\")\n",
    "plt.plot(validation_losses, val_steps, label=\"val loss\")\n",
    "plt.plot(np.convolve(validation_losses, np.ones(N)/N, mode='valid'),\n",
    "         val_steps, label=\"val running avg\")\n",
    "plt.legend()\n",
    "\n",
    "plt.savefig(\"loss.png\", dpi=1200)\n",
    "# plt.close()"
   ]
  }
 ],
 "metadata": {
  "kernelspec": {
   "display_name": "Python 3",
   "language": "python",
   "name": "python3"
  },
  "language_info": {
   "codemirror_mode": {
    "name": "ipython",
    "version": 3
   },
   "file_extension": ".py",
   "mimetype": "text/x-python",
   "name": "python",
   "nbconvert_exporter": "python",
   "pygments_lexer": "ipython3",
   "version": "3.9.18"
  }
 },
 "nbformat": 4,
 "nbformat_minor": 2
}
