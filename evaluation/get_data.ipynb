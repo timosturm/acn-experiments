{
 "cells": [
  {
   "cell_type": "code",
   "execution_count": 1,
   "metadata": {},
   "outputs": [],
   "source": [
    "from datetime import datetime\n",
    "from acnportal.acndata import DataClient\n",
    "import pytz\n",
    "import pandas as pd\n",
    "\n",
    "client = DataClient(\"DEMO_TOKEN\")\n",
    "timezone = pytz.timezone('America/Los_Angeles')\n",
    "start = datetime(2018, 3, 25, tzinfo=timezone)\n",
    "end = datetime(2020, 5, 31, tzinfo=timezone)\n",
    "site = \"caltech\"\n",
    "\n",
    "path = f\"{site}_{start}_{end}_{False}.csv\"\n",
    "\n",
    "docs = client.get_sessions_by_time(\n",
    "    site, \n",
    "    start,\n",
    "    end, \n",
    "    timeseries=False,\n",
    ")\n",
    "data = pd.DataFrame.from_dict(docs)\n",
    "data.to_csv(path)"
   ]
  }
 ],
 "metadata": {
  "kernelspec": {
   "display_name": "Python 3",
   "language": "python",
   "name": "python3"
  },
  "language_info": {
   "codemirror_mode": {
    "name": "ipython",
    "version": 3
   },
   "file_extension": ".py",
   "mimetype": "text/x-python",
   "name": "python",
   "nbconvert_exporter": "python",
   "pygments_lexer": "ipython3",
   "version": "3.9.18"
  }
 },
 "nbformat": 4,
 "nbformat_minor": 2
}
