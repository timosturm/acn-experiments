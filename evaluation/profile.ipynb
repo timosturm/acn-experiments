{
 "cells": [
  {
   "cell_type": "code",
   "execution_count": null,
   "id": "20c2683d",
   "metadata": {},
   "outputs": [],
   "source": [
    "# import cProfile\n",
    "\n",
    "# def cevaluate_model():\n",
    "#     model = models[\"Uncontrolled\"]\n",
    "    \n",
    "#     evaluate_model(\n",
    "#             model,\n",
    "#             make_env(cfg | {\"action_object\": single_charging_schedule()} if isinstance(model, ACNSchedule) else cfg, 0.99, 0)(), 93242598),\n",
    "\n",
    "# cProfile.run(\"cevaluate_model()\", filename=\"profile.prof\")\n",
    "\n",
    "# %load_ext snakeviz\n",
    "# !snakeviz profile.prof"
   ]
  }
 ],
 "metadata": {
  "language_info": {
   "name": "python"
  }
 },
 "nbformat": 4,
 "nbformat_minor": 5
}
