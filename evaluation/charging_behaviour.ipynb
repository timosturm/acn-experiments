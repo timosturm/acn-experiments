{
 "cells": [
  {
   "cell_type": "code",
   "execution_count": 1,
   "id": "e067e57b",
   "metadata": {},
   "outputs": [],
   "source": [
    "import matplotlib.pyplot as plt\n",
    "import numpy as np\n",
    "from scipy import stats\n",
    "from collections import defaultdict\n",
    "import seaborn as sns\n",
    "sns.set_theme(palette=\"colorblind\")\n",
    "sns.set_style(\"white\", {'axes.grid': False})"
   ]
  },
  {
   "cell_type": "code",
   "execution_count": 2,
   "id": "55ffa8f6",
   "metadata": {},
   "outputs": [
    {
     "name": "stderr",
     "output_type": "stream",
     "text": [
      "WARNING: All log messages before absl::InitializeLog() is called are written to STDERR\n",
      "E0000 00:00:1747407890.264245  872276 cuda_dnn.cc:8310] Unable to register cuDNN factory: Attempting to register factory for plugin cuDNN when one has already been registered\n",
      "E0000 00:00:1747407890.266829  872276 cuda_blas.cc:1418] Unable to register cuBLAS factory: Attempting to register factory for plugin cuBLAS when one has already been registered\n"
     ]
    }
   ],
   "source": [
    "from src.pv.pv import read_pv_data\n",
    "from src.observations import minute_observation_stay\n",
    "from src.pv.metrics import *\n",
    "from gymportal.evaluation import *\n",
    "from src.pv.rewards import *\n",
    "from src.pv.observations import pv_observation_mean\n",
    "from gymportal.environment import *\n",
    "from src.pv.pv import read_pv_data\n",
    "import pytz\n",
    "from datetime import datetime, timedelta\n",
    "from gymportal.sim import get_charging_network, Recomputer, EvaluationSimulator, SimGenerator\n",
    "from gymportal.data.battery_generators import CustomizableBatteryGenerator\n",
    "from acnportal.acnsim import Linear2StageBattery\n",
    "from src.rewards import sparse_soc_reward\n",
    "from src.utils import AV_pod_ids, get_generator, get_power_function\n",
    "\n",
    "timezone = pytz.timezone(\"America/Los_Angeles\")\n",
    "\n",
    "\n",
    "charging_network = get_charging_network(\n",
    "    'simple_acn',\n",
    "    basic_evse=True,\n",
    "    voltage=208,\n",
    "    network_kwargs={\n",
    "        'station_ids': AV_pod_ids,\n",
    "        \"aggregate_cap\": (150 / 54) * len(AV_pod_ids),\n",
    "    },\n",
    ")\n",
    "\n",
    "# charging_network = get_charging_network('caltech', basic_evse=True, voltage=208,\n",
    "#                                         network_kwargs={\"transformer_cap\": 150})\n",
    "\n",
    "df_pv = read_pv_data(\"../pv_150kW.csv\")\n",
    "df_pv.P /= 54 / len(charging_network.station_ids)\n",
    "df_pv.describe()\n",
    "\n",
    "battery_generator = CustomizableBatteryGenerator(\n",
    "    voltage=208,\n",
    "    period=1,\n",
    "    battery_types=[\n",
    "        Linear2StageBattery,\n",
    "    ],\n",
    "    max_power_function=get_power_function,\n",
    ")\n",
    "\n",
    "# ev_generator = RealWorldGenerator(battery_generator=battery_generator, site='caltech', period=1)\n",
    "ev_generator = get_generator(\n",
    "    'caltech',\n",
    "    \"../triple_gmm+sc.pkl\",\n",
    "    battery_generator,\n",
    "    seed=42,\n",
    "    frequency_multiplicator=10,\n",
    "    duration_multiplicator=2,\n",
    "    file_path=\"../caltech_2018-03-25 00:00:00-07:53_2020-05-31 00:00:00-07:53_False.csv\",\n",
    ")\n",
    "\n",
    "observation_objects = [\n",
    "    charging_rates_observation_normalized(),\n",
    "    percentage_of_magnitude_observation(),\n",
    "    diff_pilots_charging_rates_observation_normalized(),\n",
    "    cyclical_minute_observation(),\n",
    "    cyclical_day_observation(),\n",
    "    cyclical_month_observation(),\n",
    "    minute_observation_stay(),\n",
    "    energy_delivered_observation_normalized(),\n",
    "    num_active_stations_observation_normalized(),\n",
    "    pilot_signals_observation_normalized(),\n",
    "    pv_observation_mean(df_pv),\n",
    "]\n",
    "\n",
    "reward_objects = [\n",
    "    pv_utilization_reward(df_pv),\n",
    "    unused_pv_reward(df_pv),\n",
    "    sparse_soc_reward(),\n",
    "    # charging_reward(),\n",
    "]"
   ]
  },
  {
   "cell_type": "code",
   "execution_count": 3,
   "id": "9c94734c",
   "metadata": {},
   "outputs": [],
   "source": [
    "base_config = {\n",
    "    \"observation_objects\": observation_objects,\n",
    "    \"action_object\": zero_centered_single_charging_schedule_normalized(),\n",
    "    \"reward_objects\": reward_objects,\n",
    "    \"meet_constraints\": True,\n",
    "}\n",
    "\n",
    "start_date = datetime(2019, 1, 1, tzinfo=timezone)\n",
    "dates = list(\n",
    "    map(\n",
    "        lambda x: start_date + timedelta(days=x),\n",
    "        range(14)\n",
    "    )\n",
    ")\n",
    "\n",
    "configs = [\n",
    "    base_config | {\n",
    "        \"simgenerator\":\n",
    "            SimGenerator(\n",
    "                charging_network=charging_network,\n",
    "                simulation_days=1,\n",
    "                n_intervals=1,\n",
    "                start_date=start_date,\n",
    "                ev_generator=ev_generator,\n",
    "                recomputer=Recomputer(recompute_interval=10, sparse=True),\n",
    "                sim_class=EvaluationSimulator,\n",
    "            )\n",
    "    } for start_date in dates\n",
    "]"
   ]
  },
  {
   "cell_type": "code",
   "execution_count": 4,
   "id": "d4609026",
   "metadata": {},
   "outputs": [],
   "source": [
    "from gymportal.evaluation import ACNSchedule\n",
    "from acnportal.algorithms import UncontrolledCharging, SortedSchedulingAlgo, last_come_first_served, \\\n",
    "    first_come_first_served\n",
    "from src.cleanRL.agent import Agent, BetaAgent\n",
    "from src.cleanRL.scheduler import CleanRLSchedule\n",
    "\n",
    "\n",
    "def load_agent(x, agent_class=Agent):\n",
    "    from utils import load_agent as ld\n",
    "    return ld(x, configs, agent_class)\n",
    "\n",
    "\n",
    "models = {\n",
    "    # \"PPO-red\": CleanRLSchedule(load_agent(\"RL_data/b1deb429-83ff-4691-93f8-afdf7a3c9788/RL_536576\")),\n",
    "    # \"PPO_RL_low_entropy\": CleanRLSchedule(load_agent(\"RL_data/21ed63a4-3f63-4556-ade0-be1eadc331e6/RL_286720\")),\n",
    "    # \"PPO_RL_2048\": CleanRLSchedule(load_agent(\"RL_data/4dc91016-62af-4892-a08a-9b927cc38224/RL_2048\")),\n",
    "    # \"PPO-RL\": CleanRLSchedule(load_agent(\"RL_data/4dc91016-62af-4892-a08a-9b927cc38224/RL_141312\")),\n",
    "    # \"PPO-RL-deterministic\": CleanRLSchedule(load_agent(\"RL_data/4dc91016-62af-4892-a08a-9b927cc38224/RL_141312\"), stochastic=False),\n",
    "    # \"PPO-RL-best\": CleanRLSchedule(load_agent(\"RL_data/4dc91016-62af-4892-a08a-9b927cc38224/RL_best\")),\n",
    "    # \"PPO-IL\": CleanRLSchedule(load_agent(\"IL_data/Imitation__ce05dd84-8c7d-4381-b4d0-8d3732b144fe\"), stochastic=True),\n",
    "    \"PPO\": CleanRLSchedule(load_agent(\"RL_data/9f283b5a-8a3c-43d8-a59e-a574597c3824/RL_606208\")),\n",
    "    \"PPO-Beta\": CleanRLSchedule(load_agent(\"RL_data/dc8fde50-712e-436f-a32a-31af9aa96f91/RL_139264\", agent_class=BetaAgent)),\n",
    "    \"FCFS\": ACNSchedule(SortedSchedulingAlgo(first_come_first_served)),\n",
    "    \"LCFS\": ACNSchedule(SortedSchedulingAlgo(last_come_first_served)),\n",
    "    \"Uncontrolled\": ACNSchedule(UncontrolledCharging()),\n",
    "}"
   ]
  },
  {
   "cell_type": "code",
   "execution_count": 5,
   "id": "62850cc8",
   "metadata": {},
   "outputs": [
    {
     "name": "stderr",
     "output_type": "stream",
     "text": [
      "/home/guest/tsturm/acn-experiments/.conda/lib/python3.9/site-packages/numpy/core/fromnumeric.py:3504: RuntimeWarning: Mean of empty slice.\n",
      "  return _methods._mean(a, axis=axis, dtype=dtype,\n",
      "/home/guest/tsturm/acn-experiments/.conda/lib/python3.9/site-packages/numpy/core/_methods.py:129: RuntimeWarning: invalid value encountered in divide\n",
      "  ret = ret.dtype.type(ret / rcount)\n",
      "/home/guest/tsturm/acn-experiments/.conda/lib/python3.9/site-packages/gymnasium/spaces/box.py:130: UserWarning: \u001b[33mWARN: Box bound precision lowered by casting to float32\u001b[0m\n",
      "  gym.logger.warn(f\"Box bound precision lowered by casting to {self.dtype}\")\n"
     ]
    }
   ],
   "source": [
    "from src.utils import evaluate_model\n",
    "from src.cleanRL.environment import make_env\n",
    "\n",
    "cfg = configs[0]\n",
    "\n",
    "__tuples = {\n",
    "    model_name: [\n",
    "        evaluate_model(\n",
    "            model,\n",
    "            make_env(cfg | {\"action_object\": single_charging_schedule()} if isinstance(model, ACNSchedule) else cfg, 0.99, 0)(), 93242598),\n",
    "    ] for model_name, model in models.items()\n",
    "}\n",
    "\n",
    "simulations = {\n",
    "    model_name: [v[0] for v in tuples] for model_name, tuples in __tuples.items()\n",
    "}\n",
    "\n",
    "agg_rewards = {\n",
    "    model_name: [v[1] for v in tuples] for model_name, tuples in __tuples.items()\n",
    "}\n",
    "\n",
    "\n",
    "del __tuples"
   ]
  },
  {
   "cell_type": "code",
   "execution_count": null,
   "id": "daf9cad2",
   "metadata": {},
   "outputs": [
    {
     "name": "stdout",
     "output_type": "stream",
     "text": [
      "snakeviz web server started on 127.0.0.1:8080; enter Ctrl-C to exit\n",
      "http://127.0.0.1:8080/snakeviz/%2Fhome%2Fguest%2Ftsturm%2Facn-experiments%2Fevaluation%2Fprofile.prof\n"
     ]
    }
   ],
   "source": [
    "# import cProfile\n",
    "\n",
    "# def cevaluate_model():\n",
    "#     model = models[\"Uncontrolled\"]\n",
    "    \n",
    "#     evaluate_model(\n",
    "#             model,\n",
    "#             make_env(cfg | {\"action_object\": single_charging_schedule()} if isinstance(model, ACNSchedule) else cfg, 0.99, 0)(), 93242598),\n",
    "\n",
    "# cProfile.run(\"cevaluate_model()\", filename=\"profile.prof\")\n",
    "\n",
    "# %load_ext snakeviz\n",
    "# !snakeviz profile.prof"
   ]
  },
  {
   "cell_type": "code",
   "execution_count": null,
   "id": "5f45108e",
   "metadata": {},
   "outputs": [],
   "source": [
    "# TODO Display charging behavior of the trained model\n",
    "from gymportal.plotting.plotting import plot_sim_evaluation\n",
    "from matplotlib.ticker import FuncFormatter, MultipleLocator\n",
    "\n",
    "from evaluation.utils import pv_for_sim\n",
    "\n",
    "sim = simulations[\"FCFS\"][0]\n",
    "fig = plot_sim_evaluation(sim)\n",
    "ax = fig.axes[-2]\n",
    "\n",
    "# TODO Convert P to A and use the right timesteps\n",
    "amps = pv_for_sim(sim, df_pv)\n",
    "\n",
    "ax.plot(amps, label=\"PV\", color=\"green\", alpha=0.5)\n",
    "ax.legend()\n",
    "\n",
    "\n",
    "def minutes_to_hhmm(x, pos):\n",
    "    hours = int(x) // 60\n",
    "    minutes = int(x) % 60\n",
    "    return f'{hours:02d}:{minutes:02d}'\n",
    "\n",
    "\n",
    "for ax in fig.axes:\n",
    "    ax.xaxis.set_major_formatter(FuncFormatter(minutes_to_hhmm))\n",
    "    ax.xaxis.set_minor_locator(MultipleLocator(60))\n",
    "\n",
    "    ax.set_xticks(np.arange(0, 1441, 120))\n",
    "    ax.grid(True, axis='x', which='major')\n",
    "    ax.grid(True, axis='x', which='minor', linestyle='--', alpha=0.5)\n",
    "    ax.set_xlabel(\"Wall time in hh:mm\")\n",
    "\n",
    "\n",
    "fig.show()\n",
    "fig.savefig(\"xxx.png\", dpi=300)"
   ]
  },
  {
   "cell_type": "code",
   "execution_count": null,
   "id": "6fa7d65f",
   "metadata": {},
   "outputs": [],
   "source": [
    "fig = plot_sim_evaluation(simulations[\"PPO-Beta\"][0])"
   ]
  },
  {
   "cell_type": "code",
   "execution_count": null,
   "id": "697a5867",
   "metadata": {},
   "outputs": [],
   "source": [
    "# fig = plot_sim_evaluation(simulations[\"PPO-RL-deterministic\"][0])"
   ]
  },
  {
   "cell_type": "code",
   "execution_count": null,
   "id": "08cca2d4",
   "metadata": {},
   "outputs": [],
   "source": [
    "# fig = plot_sim_evaluation(simulations[\"PPO-RL_low_entropy\"][0])"
   ]
  },
  {
   "cell_type": "code",
   "execution_count": null,
   "id": "53c2b833",
   "metadata": {},
   "outputs": [],
   "source": [
    "# fig = plot_sim_evaluation(simulations[\"PPO-red\"][0])"
   ]
  }
 ],
 "metadata": {
  "kernelspec": {
   "display_name": "Python 3",
   "language": "python",
   "name": "python3"
  },
  "language_info": {
   "codemirror_mode": {
    "name": "ipython",
    "version": 3
   },
   "file_extension": ".py",
   "mimetype": "text/x-python",
   "name": "python",
   "nbconvert_exporter": "python",
   "pygments_lexer": "ipython3",
   "version": "3.9.18"
  }
 },
 "nbformat": 4,
 "nbformat_minor": 5
}
