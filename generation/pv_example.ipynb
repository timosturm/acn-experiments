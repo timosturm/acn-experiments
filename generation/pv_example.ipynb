{
 "cells": [
  {
   "cell_type": "code",
   "execution_count": 1,
   "id": "78250985",
   "metadata": {},
   "outputs": [],
   "source": [
    "import matplotlib\n",
    "import matplotlib.pyplot as plt\n",
    "import numpy as np\n",
    "from scipy import stats\n",
    "from collections import defaultdict\n",
    "from src.plotting import plot_sim_evaluation_pv\n",
    "\n",
    "import seaborn as sns\n",
    "sns.set_theme(palette=\"colorblind\")\n",
    "sns.set_style(\"white\", {'axes.grid': False})\n",
    "\n",
    "matplotlib.rcParams[\"font.family\"] = \"serif\"\n",
    "matplotlib.rcParams[\"font.size\"] = \"12\""
   ]
  },
  {
   "cell_type": "code",
   "execution_count": 2,
   "id": "4397c437",
   "metadata": {},
   "outputs": [
    {
     "data": {
      "application/vnd.microsoft.datawrangler.viewer.v0+json": {
       "columns": [
        {
         "name": "index",
         "rawType": "int64",
         "type": "integer"
        },
        {
         "name": "time",
         "rawType": "datetime64[ns, America/Los_Angeles]",
         "type": "unknown"
        },
        {
         "name": "P",
         "rawType": "float64",
         "type": "float"
        },
        {
         "name": "G(i)",
         "rawType": "float64",
         "type": "float"
        },
        {
         "name": "H_sun",
         "rawType": "float64",
         "type": "float"
        },
        {
         "name": "T2m",
         "rawType": "float64",
         "type": "float"
        },
        {
         "name": "WS10m",
         "rawType": "float64",
         "type": "float"
        },
        {
         "name": "Int",
         "rawType": "float64",
         "type": "float"
        }
       ],
       "ref": "f88433cc-5c5f-418b-b626-7957ed48c1f7",
       "rows": [
        [
         "0",
         "2004-12-31 16:30:00-08:00",
         "15886.5",
         "149.54",
         "3.42",
         "11.79",
         "1.72",
         "0.0"
        ],
        [
         "1",
         "2004-12-31 17:30:00-08:00",
         "0.0",
         "0.0",
         "0.0",
         "10.53",
         "1.24",
         "0.0"
        ],
        [
         "2",
         "2004-12-31 18:30:00-08:00",
         "0.0",
         "0.0",
         "0.0",
         "9.4",
         "0.76",
         "0.0"
        ],
        [
         "3",
         "2004-12-31 19:30:00-08:00",
         "0.0",
         "0.0",
         "0.0",
         "9.44",
         "0.28",
         "0.0"
        ],
        [
         "4",
         "2004-12-31 20:30:00-08:00",
         "0.0",
         "0.0",
         "0.0",
         "8.98",
         "0.41",
         "0.0"
        ]
       ],
       "shape": {
        "columns": 7,
        "rows": 5
       }
      },
      "text/html": [
       "<div>\n",
       "<style scoped>\n",
       "    .dataframe tbody tr th:only-of-type {\n",
       "        vertical-align: middle;\n",
       "    }\n",
       "\n",
       "    .dataframe tbody tr th {\n",
       "        vertical-align: top;\n",
       "    }\n",
       "\n",
       "    .dataframe thead th {\n",
       "        text-align: right;\n",
       "    }\n",
       "</style>\n",
       "<table border=\"1\" class=\"dataframe\">\n",
       "  <thead>\n",
       "    <tr style=\"text-align: right;\">\n",
       "      <th></th>\n",
       "      <th>time</th>\n",
       "      <th>P</th>\n",
       "      <th>G(i)</th>\n",
       "      <th>H_sun</th>\n",
       "      <th>T2m</th>\n",
       "      <th>WS10m</th>\n",
       "      <th>Int</th>\n",
       "    </tr>\n",
       "  </thead>\n",
       "  <tbody>\n",
       "    <tr>\n",
       "      <th>0</th>\n",
       "      <td>2004-12-31 16:30:00-08:00</td>\n",
       "      <td>15886.5</td>\n",
       "      <td>149.54</td>\n",
       "      <td>3.42</td>\n",
       "      <td>11.79</td>\n",
       "      <td>1.72</td>\n",
       "      <td>0.0</td>\n",
       "    </tr>\n",
       "    <tr>\n",
       "      <th>1</th>\n",
       "      <td>2004-12-31 17:30:00-08:00</td>\n",
       "      <td>0.0</td>\n",
       "      <td>0.00</td>\n",
       "      <td>0.00</td>\n",
       "      <td>10.53</td>\n",
       "      <td>1.24</td>\n",
       "      <td>0.0</td>\n",
       "    </tr>\n",
       "    <tr>\n",
       "      <th>2</th>\n",
       "      <td>2004-12-31 18:30:00-08:00</td>\n",
       "      <td>0.0</td>\n",
       "      <td>0.00</td>\n",
       "      <td>0.00</td>\n",
       "      <td>9.40</td>\n",
       "      <td>0.76</td>\n",
       "      <td>0.0</td>\n",
       "    </tr>\n",
       "    <tr>\n",
       "      <th>3</th>\n",
       "      <td>2004-12-31 19:30:00-08:00</td>\n",
       "      <td>0.0</td>\n",
       "      <td>0.00</td>\n",
       "      <td>0.00</td>\n",
       "      <td>9.44</td>\n",
       "      <td>0.28</td>\n",
       "      <td>0.0</td>\n",
       "    </tr>\n",
       "    <tr>\n",
       "      <th>4</th>\n",
       "      <td>2004-12-31 20:30:00-08:00</td>\n",
       "      <td>0.0</td>\n",
       "      <td>0.00</td>\n",
       "      <td>0.00</td>\n",
       "      <td>8.98</td>\n",
       "      <td>0.41</td>\n",
       "      <td>0.0</td>\n",
       "    </tr>\n",
       "  </tbody>\n",
       "</table>\n",
       "</div>"
      ],
      "text/plain": [
       "                       time        P    G(i)  H_sun    T2m  WS10m  Int\n",
       "0 2004-12-31 16:30:00-08:00  15886.5  149.54   3.42  11.79   1.72  0.0\n",
       "1 2004-12-31 17:30:00-08:00      0.0    0.00   0.00  10.53   1.24  0.0\n",
       "2 2004-12-31 18:30:00-08:00      0.0    0.00   0.00   9.40   0.76  0.0\n",
       "3 2004-12-31 19:30:00-08:00      0.0    0.00   0.00   9.44   0.28  0.0\n",
       "4 2004-12-31 20:30:00-08:00      0.0    0.00   0.00   8.98   0.41  0.0"
      ]
     },
     "execution_count": 2,
     "metadata": {},
     "output_type": "execute_result"
    }
   ],
   "source": [
    "from src.pv.pv import read_pv_data\n",
    "\n",
    "\n",
    "df = read_pv_data(\"../pv_150kW.csv\")\n",
    "df.head()"
   ]
  },
  {
   "cell_type": "code",
   "execution_count": 3,
   "id": "3228a802",
   "metadata": {},
   "outputs": [],
   "source": [
    "tz = df.loc[0].time.tz"
   ]
  },
  {
   "cell_type": "code",
   "execution_count": 4,
   "id": "3b2aae44",
   "metadata": {},
   "outputs": [
    {
     "data": {
      "application/vnd.microsoft.datawrangler.viewer.v0+json": {
       "columns": [
        {
         "name": "index",
         "rawType": "int64",
         "type": "integer"
        },
        {
         "name": "time",
         "rawType": "datetime64[ns, America/Los_Angeles]",
         "type": "unknown"
        },
        {
         "name": "P",
         "rawType": "float64",
         "type": "float"
        },
        {
         "name": "G(i)",
         "rawType": "float64",
         "type": "float"
        },
        {
         "name": "H_sun",
         "rawType": "float64",
         "type": "float"
        },
        {
         "name": "T2m",
         "rawType": "float64",
         "type": "float"
        },
        {
         "name": "WS10m",
         "rawType": "float64",
         "type": "float"
        },
        {
         "name": "Int",
         "rawType": "float64",
         "type": "float"
        }
       ],
       "ref": "36f9418c-6fb5-4dbb-b77c-a736ef923261",
       "rows": [
        [
         "126344",
         "2019-06-01 01:30:00-07:00",
         "0.0",
         "0.0",
         "0.0",
         "13.37",
         "0.62",
         "0.0"
        ],
        [
         "126345",
         "2019-06-01 02:30:00-07:00",
         "0.0",
         "0.0",
         "0.0",
         "13.07",
         "0.62",
         "0.0"
        ],
        [
         "126346",
         "2019-06-01 03:30:00-07:00",
         "0.0",
         "0.0",
         "0.0",
         "13.07",
         "0.48",
         "0.0"
        ],
        [
         "126347",
         "2019-06-01 04:30:00-07:00",
         "0.0",
         "0.0",
         "0.0",
         "12.92",
         "0.41",
         "0.0"
        ],
        [
         "126348",
         "2019-06-01 05:30:00-07:00",
         "0.0",
         "0.0",
         "-3.01",
         "12.94",
         "0.55",
         "0.0"
        ]
       ],
       "shape": {
        "columns": 7,
        "rows": 5
       }
      },
      "text/html": [
       "<div>\n",
       "<style scoped>\n",
       "    .dataframe tbody tr th:only-of-type {\n",
       "        vertical-align: middle;\n",
       "    }\n",
       "\n",
       "    .dataframe tbody tr th {\n",
       "        vertical-align: top;\n",
       "    }\n",
       "\n",
       "    .dataframe thead th {\n",
       "        text-align: right;\n",
       "    }\n",
       "</style>\n",
       "<table border=\"1\" class=\"dataframe\">\n",
       "  <thead>\n",
       "    <tr style=\"text-align: right;\">\n",
       "      <th></th>\n",
       "      <th>time</th>\n",
       "      <th>P</th>\n",
       "      <th>G(i)</th>\n",
       "      <th>H_sun</th>\n",
       "      <th>T2m</th>\n",
       "      <th>WS10m</th>\n",
       "      <th>Int</th>\n",
       "    </tr>\n",
       "  </thead>\n",
       "  <tbody>\n",
       "    <tr>\n",
       "      <th>126344</th>\n",
       "      <td>2019-06-01 01:30:00-07:00</td>\n",
       "      <td>0.0</td>\n",
       "      <td>0.0</td>\n",
       "      <td>0.00</td>\n",
       "      <td>13.37</td>\n",
       "      <td>0.62</td>\n",
       "      <td>0.0</td>\n",
       "    </tr>\n",
       "    <tr>\n",
       "      <th>126345</th>\n",
       "      <td>2019-06-01 02:30:00-07:00</td>\n",
       "      <td>0.0</td>\n",
       "      <td>0.0</td>\n",
       "      <td>0.00</td>\n",
       "      <td>13.07</td>\n",
       "      <td>0.62</td>\n",
       "      <td>0.0</td>\n",
       "    </tr>\n",
       "    <tr>\n",
       "      <th>126346</th>\n",
       "      <td>2019-06-01 03:30:00-07:00</td>\n",
       "      <td>0.0</td>\n",
       "      <td>0.0</td>\n",
       "      <td>0.00</td>\n",
       "      <td>13.07</td>\n",
       "      <td>0.48</td>\n",
       "      <td>0.0</td>\n",
       "    </tr>\n",
       "    <tr>\n",
       "      <th>126347</th>\n",
       "      <td>2019-06-01 04:30:00-07:00</td>\n",
       "      <td>0.0</td>\n",
       "      <td>0.0</td>\n",
       "      <td>0.00</td>\n",
       "      <td>12.92</td>\n",
       "      <td>0.41</td>\n",
       "      <td>0.0</td>\n",
       "    </tr>\n",
       "    <tr>\n",
       "      <th>126348</th>\n",
       "      <td>2019-06-01 05:30:00-07:00</td>\n",
       "      <td>0.0</td>\n",
       "      <td>0.0</td>\n",
       "      <td>-3.01</td>\n",
       "      <td>12.94</td>\n",
       "      <td>0.55</td>\n",
       "      <td>0.0</td>\n",
       "    </tr>\n",
       "  </tbody>\n",
       "</table>\n",
       "</div>"
      ],
      "text/plain": [
       "                            time    P  G(i)  H_sun    T2m  WS10m  Int\n",
       "126344 2019-06-01 01:30:00-07:00  0.0   0.0   0.00  13.37   0.62  0.0\n",
       "126345 2019-06-01 02:30:00-07:00  0.0   0.0   0.00  13.07   0.62  0.0\n",
       "126346 2019-06-01 03:30:00-07:00  0.0   0.0   0.00  13.07   0.48  0.0\n",
       "126347 2019-06-01 04:30:00-07:00  0.0   0.0   0.00  12.92   0.41  0.0\n",
       "126348 2019-06-01 05:30:00-07:00  0.0   0.0  -3.01  12.94   0.55  0.0"
      ]
     },
     "execution_count": 4,
     "metadata": {},
     "output_type": "execute_result"
    }
   ],
   "source": [
    "from datetime import date, datetime\n",
    "\n",
    "\n",
    "start = datetime(2019, 6, 1, tzinfo=tz)\n",
    "end = datetime(2019, 6, 2, tzinfo=tz)\n",
    "\n",
    "example = df.loc[(start <= df.time) & (df.time <= end)]\n",
    "example.head()"
   ]
  },
  {
   "cell_type": "code",
   "execution_count": 5,
   "id": "e359ca8b",
   "metadata": {},
   "outputs": [],
   "source": [
    "from datetime import timedelta\n",
    "\n",
    "starts = [\n",
    "    datetime(2018, 6, 1, tzinfo=tz),\n",
    "    datetime(2019, 6, 1, tzinfo=tz),\n",
    "    datetime(2020, 6, 1, tzinfo=tz)\n",
    "]\n",
    "\n",
    "\n",
    "examples = [\n",
    "    df.loc[(start <= df.time) & (df.time <= start + timedelta(days=1))] for start in starts\n",
    "]"
   ]
  },
  {
   "cell_type": "code",
   "execution_count": 6,
   "id": "00848342",
   "metadata": {},
   "outputs": [],
   "source": [
    "example = examples[0]"
   ]
  },
  {
   "cell_type": "code",
   "execution_count": 7,
   "id": "b8e50631",
   "metadata": {},
   "outputs": [
    {
     "data": {
      "image/png": "[encoded data removed]",
      "text/plain": [
       "<Figure size 1000x500 with 1 Axes>"
      ]
     },
     "metadata": {},
     "output_type": "display_data"
    }
   ],
   "source": [
    "# # Assuming df is already defined\n",
    "# df['time'] = pd.to_datetime(df['time'])  # Ensure 'time' is datetime\n",
    "\n",
    "# Create the figure and axis\n",
    "fig, ax = plt.subplots(figsize=(10, 5))\n",
    "\n",
    "y = example.P / 1000\n",
    "x = example.time\n",
    "\n",
    "# Plot P vs. time\n",
    "ax.plot(x, y, marker='', linestyle='-')\n",
    "ax.fill_between(x, y, alpha=0.5)\n",
    "\n",
    "# Set titles and labels\n",
    "ax.set_title('P over Time')\n",
    "ax.set_xlabel('Time')\n",
    "ax.set_ylabel('P in kW')\n",
    "\n",
    "# Improve formatting\n",
    "ax.grid(True)\n",
    "fig.autofmt_xdate()  # Automatically format x-axis dates\n",
    "\n",
    "# Show the plot\n",
    "plt.tight_layout()\n",
    "plt.show()\n"
   ]
  },
  {
   "cell_type": "code",
   "execution_count": 8,
   "id": "ab7f26e6",
   "metadata": {},
   "outputs": [],
   "source": [
    "# example = examples[i]\n",
    "# x = example['time']\n",
    "# x = x.apply(lambda x: x.replace(year=2019))\n",
    "# x"
   ]
  },
  {
   "cell_type": "code",
   "execution_count": 11,
   "id": "0e49eea0",
   "metadata": {},
   "outputs": [
    {
     "data": {
      "image/png": "[encoded data removed]",
      "text/plain": [
       "<Figure size 690x276 with 1 Axes>"
      ]
     },
     "metadata": {},
     "output_type": "display_data"
    }
   ],
   "source": [
    "from matplotlib.ticker import MultipleLocator\n",
    "import pandas as pd\n",
    "import matplotlib.pyplot as plt\n",
    "import matplotlib.dates as mdates\n",
    "\n",
    "m = 2.3\n",
    "fig, axes = plt.subplots(nrows=1, ncols=1, figsize=(\n",
    "    3 * m, 1.2 * m), tight_layout=True, sharey=True)\n",
    "\n",
    "ax = axes\n",
    "\n",
    "hour_formatter = mdates.DateFormatter('%H:%M', tz=tz)\n",
    "\n",
    "color = color_cycle = plt.rcParams['axes.prop_cycle'].by_key()[\n",
    "    'color'][8]  # yellow\n",
    "\n",
    "# for i, ax in enumerate(axes):\n",
    "for i in range(3):\n",
    "    example = examples[i]\n",
    "    x = example['time'].apply(lambda x: x.replace(year=2019))\n",
    "    y = example['P'] / 1000  # Convert to kW\n",
    "    \n",
    "    dt = starts[i]\n",
    "\n",
    "    ax.plot(x, y, linestyle='-', marker=\".\", label=f\"{dt.day:02d}.{dt.month:02d}.{dt.year}\")\n",
    "    # ax.fill_between(x, y, alpha=0.3)\n",
    "    ax.set_xlabel('Time of Day')\n",
    "\n",
    "    # ax.set_title(f\"{dt.day:02d}.{dt.month:02d}.{dt.year}\")\n",
    "    ax.xaxis.set_major_formatter(hour_formatter)  # Format x-axis to show hours\n",
    "    \n",
    "    major_locator = mdates.HourLocator(interval=3)  # every 3 hours\n",
    "    minor_locator = mdates.HourLocator(interval=1)\n",
    "    \n",
    "    ax.xaxis.set_major_locator(major_locator)\n",
    "    ax.xaxis.set_minor_locator(minor_locator)\n",
    "\n",
    "    ax.grid(True)\n",
    "    # Enable grid on minor ticks only (which are at every integer)\n",
    "    ax.grid(True, which='minor', axis='x',\n",
    "            linestyle='--', color='gray', alpha=0.2)\n",
    "\n",
    "ax.legend()\n",
    "# Set title and y-label on the first axis\n",
    "# axes[0].set_ylabel('P in kW')\n",
    "ax.set_ylabel(\"P in kW\")\n",
    "\n",
    "# Auto-format x-axis labels and adjust layout\n",
    "fig.autofmt_xdate()\n",
    "plt.tight_layout(rect=[0, 0, 1, 0.95])  # Leave space for suptitle\n",
    "plt.show()\n",
    "\n",
    "fig.savefig(\"pv-example.pdf\", dpi=300, bbox_inches=\"tight\")"
   ]
  }
 ],
 "metadata": {
  "kernelspec": {
   "display_name": "Python 3",
   "language": "python",
   "name": "python3"
  },
  "language_info": {
   "codemirror_mode": {
    "name": "ipython",
    "version": 3
   },
   "file_extension": ".py",
   "mimetype": "text/x-python",
   "name": "python",
   "nbconvert_exporter": "python",
   "pygments_lexer": "ipython3",
   "version": "3.9.18"
  }
 },
 "nbformat": 4,
 "nbformat_minor": 5
}
