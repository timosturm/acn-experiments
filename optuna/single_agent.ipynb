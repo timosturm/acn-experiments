{
 "cells": [
  {
   "cell_type": "code",
   "execution_count": null,
   "id": "44bfe4ea",
   "metadata": {},
   "outputs": [],
   "source": [
    "import wandb\n",
    "\n",
    "# This is importent when we want to call this as a python script, because jupyter naturally has a higher recursion depth\n",
    "from icecream import ic\n",
    "import os\n",
    "import sys\n",
    "sys.setrecursionlimit(3000)\n",
    "\n",
    "# Print the PID when using nohup\n",
    "ic(os.getpid())"
   ]
  },
  {
   "cell_type": "code",
   "execution_count": null,
   "id": "a1da1c22",
   "metadata": {},
   "outputs": [],
   "source": [
    "from gymportal.data.ev_generators import get_standard_generator, RealWorldGenerator\n",
    "from acnportal.acnsim import Linear2StageBattery\n",
    "from gymportal.data.battery_generators import CustomizableBatteryGenerator\n",
    "from gymportal.sim import get_charging_network, Recomputer, EvaluationSimulator, SimGenerator\n",
    "from datetime import datetime, timedelta\n",
    "\n",
    "import pytz\n",
    "timezone = pytz.timezone(\"America/Los_Angeles\")\n",
    "\n",
    "\n",
    "charging_network = get_charging_network('simple_acn', basic_evse=True, voltage=208,\n",
    "                                        network_kwargs={\n",
    "                                            'station_ids': ['CA-504', 'CA-503', 'CA-502', 'CA-501'],\n",
    "                                            # 'station_ids': ['CA-501'],\n",
    "                                            \"aggregate_cap\": 32 * 208 / 1000})\n",
    "\n",
    "# charging_network = get_charging_network('caltech', basic_evse=True, voltage=208,\n",
    "#                                         network_kwargs={\"transformer_cap\": 150})\n",
    "\n",
    "battery_generator = CustomizableBatteryGenerator(\n",
    "    voltage=208,\n",
    "    period=1,\n",
    "    battery_types=[\n",
    "        Linear2StageBattery],\n",
    "    max_power_function=\"normal\",\n",
    ")\n",
    "\n",
    "# ev_generator = RealWorldGenerator(battery_generator=battery_generator, site='caltech', period=1)\n",
    "ev_generator = get_standard_generator(\n",
    "    'caltech', battery_generator, seed=42, frequency_multiplicator=10, duration_multiplicator=2)\n",
    "\n",
    "train_generator = SimGenerator(\n",
    "    charging_network=charging_network,\n",
    "    simulation_days=7,\n",
    "    n_intervals=46,\n",
    "    start_date=timezone.localize(datetime(2019, 1, 1)),\n",
    "    ev_generator=ev_generator,\n",
    "    recomputer=Recomputer(recompute_interval=10, sparse=True),\n",
    "    sim_class=EvaluationSimulator,\n",
    ")\n",
    "\n",
    "ic(train_generator.end_date + timedelta(days=1))\n",
    "\n",
    "eval_generator = SimGenerator(\n",
    "    charging_network=charging_network,\n",
    "    simulation_days=7,\n",
    "    n_intervals=1,\n",
    "    start_date=train_generator.end_date + timedelta(days=1),\n",
    "    ev_generator=ev_generator,\n",
    "    recomputer=Recomputer(recompute_interval=10, sparse=True),\n",
    "    sim_class=EvaluationSimulator,\n",
    ")\n",
    "\n",
    "ic(eval_generator.end_date + timedelta(days=1))\n",
    "\n",
    "validation_generator = SimGenerator(\n",
    "    charging_network=charging_network,\n",
    "    simulation_days=14,\n",
    "    n_intervals=1,\n",
    "    start_date=eval_generator.end_date + timedelta(days=1),\n",
    "    ev_generator=ev_generator,\n",
    "    recomputer=Recomputer(recompute_interval=10, sparse=True),\n",
    "    sim_class=EvaluationSimulator,\n",
    ")\n",
    "\n",
    "ic(validation_generator.end_date + timedelta(days=1))\n",
    "pass"
   ]
  },
  {
   "cell_type": "code",
   "execution_count": null,
   "id": "107894d2",
   "metadata": {},
   "outputs": [],
   "source": [
    "from src.pv.pv import read_pv_data\n",
    "\n",
    "df_pv = read_pv_data(\"../pv_150kW.csv\")\n",
    "df_pv.describe()"
   ]
  },
  {
   "cell_type": "code",
   "execution_count": 4,
   "id": "ef85f28f",
   "metadata": {},
   "outputs": [],
   "source": [
    "from gymportal.environment import *\n",
    "from src.pv.observations import pv_observation_mean\n",
    "from src.pv.rewards import *\n",
    "\n",
    "observation_objects = [\n",
    "    charging_rates_observation_normalized(),\n",
    "    percentage_of_magnitude_observation(),\n",
    "    diff_pilots_charging_rates_observation_normalized(),\n",
    "    cyclical_minute_observation(),\n",
    "    cyclical_day_observation(),\n",
    "    cyclical_month_observation(),\n",
    "    cyclical_minute_observation_stay(),\n",
    "    energy_delivered_observation_normalized(),\n",
    "    num_active_stations_observation_normalized(),\n",
    "    pilot_signals_observation_normalized(),\n",
    "    cyclical_minute_observation_arrival(),\n",
    "    cyclical_day_observation_arrival(),\n",
    "    cyclical_month_observation_arrival(),\n",
    "    pv_observation_mean(df_pv),\n",
    "]\n",
    "\n",
    "reward_objects = [\n",
    "    pv_utilization_reward(df_pv),\n",
    "    # grid_use_penalty(df_pv),\n",
    "    unused_pv_penalty(df_pv),\n",
    "    charging_reward(),\n",
    "    # soft_charging_reward_pv_weighted(df_pv, transformer_cap=150),\n",
    "]"
   ]
  },
  {
   "cell_type": "code",
   "execution_count": 5,
   "id": "891a4e73",
   "metadata": {},
   "outputs": [],
   "source": [
    "# import dill as pickle\n",
    "\n",
    "# with open(\"../caltech_#stations=54_#days=7_#intervals=46_seed=8734956.pkl\", \"rb\") as file:\n",
    "#     train_generator = pickle.load(file)"
   ]
  },
  {
   "cell_type": "code",
   "execution_count": null,
   "id": "4188fe2e",
   "metadata": {},
   "outputs": [],
   "source": [
    "train_generator.seed = 8734956\n",
    "_ = train_generator.reset()\n",
    "\n",
    "iter = 0\n",
    "\n",
    "while train_generator._current_date != train_generator.start_date:\n",
    "    _ = train_generator.next()\n",
    "\n",
    "    ic(iter)\n",
    "    ic(train_generator._current_date)\n",
    "    iter += 1"
   ]
  },
  {
   "cell_type": "code",
   "execution_count": null,
   "id": "853d26e6",
   "metadata": {},
   "outputs": [],
   "source": [
    "steps_per_epoch = 0\n",
    "for sim in train_generator._sim_memory:\n",
    "    steps_per_epoch += len(sim.event_queue.queue)\n",
    "\n",
    "ic(steps_per_epoch)"
   ]
  },
  {
   "cell_type": "code",
   "execution_count": 8,
   "id": "dd9f0954",
   "metadata": {},
   "outputs": [],
   "source": [
    "train_config = {\"observation_objects\": observation_objects, \"action_object\": zero_centered_single_charging_schedule_normalized(),\n",
    "                \"reward_objects\": reward_objects,\n",
    "                \"simgenerator\": train_generator,\n",
    "                \"meet_constraints\": True}\n",
    "\n",
    "eval_config = train_config | {'simgenerator': eval_generator}\n",
    "validation_config = train_config | {'simgenerator': validation_generator}"
   ]
  },
  {
   "cell_type": "code",
   "execution_count": null,
   "id": "d30d5c68",
   "metadata": {},
   "outputs": [],
   "source": [
    "steps_per_epoch = int(steps_per_epoch)\n",
    "steps_per_epoch"
   ]
  },
  {
   "cell_type": "code",
   "execution_count": 10,
   "id": "b5dd6706",
   "metadata": {},
   "outputs": [],
   "source": [
    "from src.cleanRL import Args\n",
    "from gymportal.evaluation import *\n",
    "from src.pv.metrics import *\n",
    "\n",
    "args = Args(\n",
    "    exp_name=\"test on simple_acn\",\n",
    "    total_timesteps=steps_per_epoch * 30,\n",
    "    num_steps=steps_per_epoch,\n",
    "    num_envs=1,\n",
    "    ent_coef=1e-4,\n",
    "    # wandb:\n",
    "    track=True,\n",
    "    wandb_project_name=\"optuna_acn\",\n",
    "    wandb_entity=\"tsturm-university-kassel\",\n",
    "    wandb_tags=[],\n",
    "    save_model=True,\n",
    "    # my own stuff:\n",
    "    train_config=train_config,\n",
    "    eval_config=eval_config,\n",
    "    eval_seed=930932,\n",
    "    eval_metrics={\n",
    "        \"SoC >= 90%\": percentage_soc,\n",
    "        \"mean SoC\": mean_soc,\n",
    "        \"median SoC\": median_soc,\n",
    "        \"prop feasible steps\": proportion_of_feasible_charging,\n",
    "        \"prop feasible charge\": proportion_of_feasible_charge,\n",
    "        \"pv utilization\": lambda sim: pv_utilization_metric(sim, df_pv),\n",
    "        \"grid usage\": lambda sim: grid_use_metric(sim, df_pv),\n",
    "        \"unused pv\": lambda sim: unused_pv_metric(sim, df_pv),\n",
    "    },\n",
    ")"
   ]
  },
  {
   "cell_type": "code",
   "execution_count": 11,
   "id": "835e690ee840fccf",
   "metadata": {
    "ExecuteTime": {
     "end_time": "2024-11-19T11:15:59.891935100Z",
     "start_time": "2024-11-19T11:15:28.327566700Z"
    },
    "collapsed": false
   },
   "outputs": [],
   "source": [
    "from src.cleanRL import train_ppo\n",
    "from src.cleanRL.environment import make_env\n",
    "from src.cleanRL.scheduler import CleanRLSchedule\n",
    "from src.cleanRL.utils import load_agent\n",
    "from src.utils import evaluate_model\n",
    "\n",
    "\n",
    "def objective(trial, args: Args):\n",
    "    args = deepcopy(args)\n",
    "\n",
    "    # draw hyperparameters from appropriate distributions, default value from args is given as a comment\n",
    "    args.learning_rate = trial.suggest_float(\n",
    "        \"learning_rate\", 3e-5, 3e-3, log=True)  # 3e-4\n",
    "    args.ent_coef = trial.suggest_float(\"ent_coef\", 1e-6, 1e-2, log=True)  # 0\n",
    "    args.gamma = trial.suggest_float(\"gamma\", 0.9, 0.99)  # 0.99\n",
    "    args.gae_lambda = trial.suggest_float(\"gae_lambda\", 0, 1)  # 0.95\n",
    "    args.max_grad_norm = trial.suggest_float(\"max_grad_norm\", 0.3, 0.7)  # 0.5\n",
    "    args.vf_coef = trial.suggest_float(\"vf_coef\", 0, 1)  # 0.5\n",
    "    args.clip_coef = trial.suggest_float(\"clip_coef\", 0, 1)  # 0.2\n",
    "\n",
    "    args.wandb_tags += [\n",
    "        f\"ent_coef={args.ent_coef}\",\n",
    "        f\"learning_rate={args.learning_rate}\",\n",
    "        f\"gamma={args.gamma}\",\n",
    "        f\"gae_lambda={args.gae_lambda}\",\n",
    "        f\"max_grad_norm={args.max_grad_norm}\",\n",
    "        f\"vf_coef={args.vf_coef}\",\n",
    "        f\"clip_coef={args.clip_coef}\",\n",
    "    ]\n",
    "\n",
    "    model_path = train_ppo(args, make_env)\n",
    "    agent = load_agent(args, model_path)\n",
    "\n",
    "    scheduler = CleanRLSchedule(deepcopy(agent))\n",
    "    sim: EvaluationSimulator = evaluate_model(scheduler, args.eval_env,\n",
    "                                              seed=args.eval_env.unwrapped.simgenerator.seed)\n",
    "\n",
    "    # station_idx = sim.network.station_ids.index(station_id)\n",
    "    timesteps = sim.reward_timesteps\n",
    "    # if len(list(sim.reward_signals.values())[0].shape) > 1:\n",
    "    #     stacked = np.stack([v[station_idx]\n",
    "    #                        for v in sim.reward_signals.values()])\n",
    "    # else:\n",
    "    stacked = np.stack([v for v in sim.reward_signals.values()])\n",
    "\n",
    "    agg_reward = np.sum(stacked)\n",
    "    wandb.log({\"agg_reward\": agg_reward})\n",
    "\n",
    "    return agg_reward"
   ]
  },
  {
   "cell_type": "code",
   "execution_count": null,
   "id": "549d388d",
   "metadata": {},
   "outputs": [],
   "source": [
    "import optuna\n",
    "\n",
    "study = optuna.create_study(\n",
    "    study_name='distributed-example',\n",
    "    storage='sqlite:///example.db',\n",
    "    load_if_exists=True, \n",
    "    direction=\"maximize\",\n",
    ")\n",
    "\n",
    "study.optimize(lambda trial: objective(trial, args), n_trials=1)"
   ]
  },
  {
   "cell_type": "code",
   "execution_count": null,
   "id": "cf807cf5",
   "metadata": {},
   "outputs": [],
   "source": [
    "from src.cleanRL.utils import get_model_path, log_evaluation_plot, log_model, load_agent, log_metrics_table"
   ]
  },
  {
   "cell_type": "code",
   "execution_count": null,
   "id": "c2402ef3",
   "metadata": {},
   "outputs": [],
   "source": [
    "model_path = get_model_path(args)"
   ]
  },
  {
   "cell_type": "code",
   "execution_count": null,
   "id": "8ecbb50a",
   "metadata": {},
   "outputs": [],
   "source": [
    "log_model(wandb.run, model_path)"
   ]
  },
  {
   "cell_type": "code",
   "execution_count": null,
   "id": "e2b81971",
   "metadata": {},
   "outputs": [],
   "source": [
    "agent = load_agent(args, model_path)"
   ]
  },
  {
   "cell_type": "code",
   "execution_count": null,
   "id": "b512d051",
   "metadata": {},
   "outputs": [],
   "source": [
    "from gymportal.evaluation import ACNSchedule\n",
    "from acnportal.algorithms import UncontrolledCharging, SortedSchedulingAlgo, last_come_first_served, \\\n",
    "    first_come_first_served\n",
    "from src.cleanRL.scheduler import CleanRLSchedule\n",
    "\n",
    "\n",
    "models = {\n",
    "    \"PPO\": CleanRLSchedule(agent),\n",
    "    \"FCFS\": ACNSchedule(SortedSchedulingAlgo(first_come_first_served)),\n",
    "    \"LCFS\": ACNSchedule(SortedSchedulingAlgo(last_come_first_served)),\n",
    "    \"Uncontrolled\": ACNSchedule(UncontrolledCharging()),\n",
    "}"
   ]
  },
  {
   "cell_type": "code",
   "execution_count": null,
   "id": "d9c68e7a",
   "metadata": {},
   "outputs": [],
   "source": [
    "log_metrics_table(models, args, wandb.run)"
   ]
  },
  {
   "cell_type": "code",
   "execution_count": null,
   "id": "efff16e4",
   "metadata": {},
   "outputs": [],
   "source": [
    "log_evaluation_plot(agent, args, wandb.run)"
   ]
  },
  {
   "cell_type": "code",
   "execution_count": null,
   "id": "818ce984",
   "metadata": {},
   "outputs": [],
   "source": [
    "wandb.finish()"
   ]
  }
 ],
 "metadata": {
  "kernelspec": {
   "display_name": "Python 3",
   "language": "python",
   "name": "python3"
  },
  "language_info": {
   "codemirror_mode": {
    "name": "ipython",
    "version": 3
   },
   "file_extension": ".py",
   "mimetype": "text/x-python",
   "name": "python",
   "nbconvert_exporter": "python",
   "pygments_lexer": "ipython3",
   "version": "3.9.18"
  }
 },
 "nbformat": 4,
 "nbformat_minor": 5
}
