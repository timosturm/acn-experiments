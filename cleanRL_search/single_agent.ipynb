{
 "cells": [
  {
   "cell_type": "code",
   "execution_count": 1,
   "id": "44bfe4ea",
   "metadata": {},
   "outputs": [
    {
     "name": "stderr",
     "output_type": "stream",
     "text": [
      "ic| os.getpid(): 710192\n"
     ]
    },
    {
     "data": {
      "text/plain": [
       "710192"
      ]
     },
     "execution_count": 1,
     "metadata": {},
     "output_type": "execute_result"
    }
   ],
   "source": [
    "# This is importent when we want to call this as a python script, because jupyter naturally has a higher recursion depth\n",
    "import sys\n",
    "sys.setrecursionlimit(3000)\n",
    "\n",
    "# Print the PID when using nohup\n",
    "import os\n",
    "from icecream import ic\n",
    "ic(os.getpid())"
   ]
  },
  {
   "cell_type": "code",
   "execution_count": 2,
   "id": "a1da1c22",
   "metadata": {},
   "outputs": [
    {
     "ename": "NameError",
     "evalue": "name 'transformer_cap' is not defined",
     "output_type": "error",
     "traceback": [
      "\u001b[0;31m---------------------------------------------------------------------------\u001b[0m",
      "\u001b[0;31mNameError\u001b[0m                                 Traceback (most recent call last)",
      "Cell \u001b[0;32mIn[2], line 18\u001b[0m\n\u001b[1;32m      8\u001b[0m timezone \u001b[38;5;241m=\u001b[39m pytz\u001b[38;5;241m.\u001b[39mtimezone(\u001b[38;5;124m\"\u001b[39m\u001b[38;5;124mAmerica/Los_Angeles\u001b[39m\u001b[38;5;124m\"\u001b[39m)\n\u001b[1;32m     11\u001b[0m \u001b[38;5;66;03m# charging_network = get_charging_network('simple_acn', basic_evse=True, voltage=208,\u001b[39;00m\n\u001b[1;32m     12\u001b[0m \u001b[38;5;66;03m#                                         network_kwargs={\u001b[39;00m\n\u001b[1;32m     13\u001b[0m \u001b[38;5;66;03m#                                             'station_ids': ['CA-504', 'CA-503', 'CA-502', 'CA-501'],\u001b[39;00m\n\u001b[1;32m     14\u001b[0m \u001b[38;5;66;03m#                                              #'station_ids': ['CA-501'],\u001b[39;00m\n\u001b[1;32m     15\u001b[0m \u001b[38;5;66;03m# \"aggregate_cap\": 32 * 208 / 1000})\u001b[39;00m\n\u001b[1;32m     17\u001b[0m charging_network \u001b[38;5;241m=\u001b[39m get_charging_network(\u001b[38;5;124m'\u001b[39m\u001b[38;5;124mcaltech\u001b[39m\u001b[38;5;124m'\u001b[39m, basic_evse\u001b[38;5;241m=\u001b[39m\u001b[38;5;28;01mTrue\u001b[39;00m, voltage\u001b[38;5;241m=\u001b[39m\u001b[38;5;241m208\u001b[39m,\n\u001b[0;32m---> 18\u001b[0m                                         network_kwargs\u001b[38;5;241m=\u001b[39m{\u001b[38;5;124m\"\u001b[39m\u001b[38;5;124mtransformer_cap\u001b[39m\u001b[38;5;124m\"\u001b[39m: \u001b[43mtransformer_cap\u001b[49m})\n\u001b[1;32m     20\u001b[0m battery_generator \u001b[38;5;241m=\u001b[39m CustomizableBatteryGenerator(\n\u001b[1;32m     21\u001b[0m     voltage\u001b[38;5;241m=\u001b[39m\u001b[38;5;241m208\u001b[39m,\n\u001b[1;32m     22\u001b[0m     period\u001b[38;5;241m=\u001b[39m\u001b[38;5;241m1\u001b[39m,\n\u001b[0;32m   (...)\u001b[0m\n\u001b[1;32m     25\u001b[0m     max_power_function\u001b[38;5;241m=\u001b[39m\u001b[38;5;124m\"\u001b[39m\u001b[38;5;124mnormal\u001b[39m\u001b[38;5;124m\"\u001b[39m,\n\u001b[1;32m     26\u001b[0m )\n\u001b[1;32m     28\u001b[0m \u001b[38;5;66;03m# ev_generator = RealWorldGenerator(battery_generator=battery_generator, site='caltech', period=1)\u001b[39;00m\n",
      "\u001b[0;31mNameError\u001b[0m: name 'transformer_cap' is not defined"
     ]
    }
   ],
   "source": [
    "from gymportal.data.ev_generators import get_standard_generator, RealWorldGenerator\n",
    "from acnportal.acnsim import Linear2StageBattery\n",
    "from gymportal.data.battery_generators import CustomizableBatteryGenerator\n",
    "from gymportal.sim import get_charging_network, Recomputer, EvaluationSimulator, SimGenerator\n",
    "from datetime import datetime, timedelta\n",
    "\n",
    "import pytz\n",
    "timezone = pytz.timezone(\"America/Los_Angeles\")\n",
    "\n",
    "\n",
    "# charging_network = get_charging_network('simple_acn', basic_evse=True, voltage=208,\n",
    "#                                         network_kwargs={\n",
    "#                                             'station_ids': ['CA-504', 'CA-503', 'CA-502', 'CA-501'],\n",
    "#                                              #'station_ids': ['CA-501'],\n",
    "# \"aggregate_cap\": 32 * 208 / 1000})\n",
    "\n",
    "charging_network = get_charging_network('caltech', basic_evse=True, voltage=208,\n",
    "                                        network_kwargs={\"transformer_cap\": transformer_cap})\n",
    "\n",
    "battery_generator = CustomizableBatteryGenerator(\n",
    "    voltage=208,\n",
    "    period=1,\n",
    "    battery_types=[\n",
    "        Linear2StageBattery],\n",
    "    max_power_function=\"normal\",\n",
    ")\n",
    "\n",
    "# ev_generator = RealWorldGenerator(battery_generator=battery_generator, site='caltech', period=1)\n",
    "ev_generator = get_standard_generator(\n",
    "    'caltech', battery_generator, seed=42, frequency_multiplicator=frequency_multiplicator, duration_multiplicator=duration_multiplicator)\n",
    "\n",
    "train_generator = SimGenerator(\n",
    "    charging_network=charging_network,\n",
    "    simulation_days=7,\n",
    "    n_intervals=46,\n",
    "    start_date=timezone.localize(datetime(2019, 1, 1)),\n",
    "    ev_generator=ev_generator,\n",
    "    recomputer=Recomputer(recompute_interval=10, sparse=True),\n",
    "    sim_class=EvaluationSimulator,\n",
    ")\n",
    "\n",
    "ic(train_generator.end_date + timedelta(days=1))\n",
    "\n",
    "eval_generator = SimGenerator(\n",
    "    charging_network=charging_network,\n",
    "    simulation_days=7,\n",
    "    n_intervals=1,\n",
    "    start_date=train_generator.end_date + timedelta(days=1),\n",
    "    ev_generator=ev_generator,\n",
    "    recomputer=Recomputer(recompute_interval=10, sparse=True),\n",
    "    sim_class=EvaluationSimulator,\n",
    ")\n",
    "\n",
    "ic(eval_generator.end_date + timedelta(days=1))\n",
    "\n",
    "validation_generator = SimGenerator(\n",
    "    charging_network=charging_network,\n",
    "    simulation_days=14,\n",
    "    n_intervals=1,\n",
    "    start_date=eval_generator.end_date + timedelta(days=1),\n",
    "    ev_generator=ev_generator,\n",
    "    recomputer=Recomputer(recompute_interval=10, sparse=True),\n",
    "    sim_class=EvaluationSimulator,\n",
    ")\n",
    "\n",
    "ic(validation_generator.end_date + timedelta(days=1))\n",
    "pass"
   ]
  },
  {
   "cell_type": "code",
   "execution_count": 3,
   "id": "107894d2",
   "metadata": {},
   "outputs": [
    {
     "data": {
      "text/html": [
       "<div>\n",
       "<style scoped>\n",
       "    .dataframe tbody tr th:only-of-type {\n",
       "        vertical-align: middle;\n",
       "    }\n",
       "\n",
       "    .dataframe tbody tr th {\n",
       "        vertical-align: top;\n",
       "    }\n",
       "\n",
       "    .dataframe thead th {\n",
       "        text-align: right;\n",
       "    }\n",
       "</style>\n",
       "<table border=\"1\" class=\"dataframe\">\n",
       "  <thead>\n",
       "    <tr style=\"text-align: right;\">\n",
       "      <th></th>\n",
       "      <th>P</th>\n",
       "      <th>G(i)</th>\n",
       "      <th>H_sun</th>\n",
       "      <th>T2m</th>\n",
       "      <th>WS10m</th>\n",
       "      <th>Int</th>\n",
       "    </tr>\n",
       "  </thead>\n",
       "  <tbody>\n",
       "    <tr>\n",
       "      <th>count</th>\n",
       "      <td>140256.000000</td>\n",
       "      <td>140256.000000</td>\n",
       "      <td>140256.000000</td>\n",
       "      <td>140256.000000</td>\n",
       "      <td>140256.000000</td>\n",
       "      <td>140256.0</td>\n",
       "    </tr>\n",
       "    <tr>\n",
       "      <th>mean</th>\n",
       "      <td>30395.798319</td>\n",
       "      <td>267.983145</td>\n",
       "      <td>16.748906</td>\n",
       "      <td>17.931872</td>\n",
       "      <td>1.654366</td>\n",
       "      <td>0.0</td>\n",
       "    </tr>\n",
       "    <tr>\n",
       "      <th>std</th>\n",
       "      <td>40648.543625</td>\n",
       "      <td>356.157287</td>\n",
       "      <td>22.166668</td>\n",
       "      <td>7.394042</td>\n",
       "      <td>0.867817</td>\n",
       "      <td>0.0</td>\n",
       "    </tr>\n",
       "    <tr>\n",
       "      <th>min</th>\n",
       "      <td>0.000000</td>\n",
       "      <td>0.000000</td>\n",
       "      <td>-5.880000</td>\n",
       "      <td>-2.230000</td>\n",
       "      <td>0.000000</td>\n",
       "      <td>0.0</td>\n",
       "    </tr>\n",
       "    <tr>\n",
       "      <th>25%</th>\n",
       "      <td>0.000000</td>\n",
       "      <td>0.000000</td>\n",
       "      <td>0.000000</td>\n",
       "      <td>12.360000</td>\n",
       "      <td>0.970000</td>\n",
       "      <td>0.0</td>\n",
       "    </tr>\n",
       "    <tr>\n",
       "      <th>50%</th>\n",
       "      <td>87.000000</td>\n",
       "      <td>7.260000</td>\n",
       "      <td>0.520000</td>\n",
       "      <td>17.310000</td>\n",
       "      <td>1.590000</td>\n",
       "      <td>0.0</td>\n",
       "    </tr>\n",
       "    <tr>\n",
       "      <th>75%</th>\n",
       "      <td>65764.500000</td>\n",
       "      <td>564.280000</td>\n",
       "      <td>31.982500</td>\n",
       "      <td>23.010000</td>\n",
       "      <td>2.280000</td>\n",
       "      <td>0.0</td>\n",
       "    </tr>\n",
       "    <tr>\n",
       "      <th>max</th>\n",
       "      <td>132601.500000</td>\n",
       "      <td>1143.220000</td>\n",
       "      <td>78.090000</td>\n",
       "      <td>46.460000</td>\n",
       "      <td>7.930000</td>\n",
       "      <td>0.0</td>\n",
       "    </tr>\n",
       "  </tbody>\n",
       "</table>\n",
       "</div>"
      ],
      "text/plain": [
       "                   P           G(i)          H_sun            T2m  \\\n",
       "count  140256.000000  140256.000000  140256.000000  140256.000000   \n",
       "mean    30395.798319     267.983145      16.748906      17.931872   \n",
       "std     40648.543625     356.157287      22.166668       7.394042   \n",
       "min         0.000000       0.000000      -5.880000      -2.230000   \n",
       "25%         0.000000       0.000000       0.000000      12.360000   \n",
       "50%        87.000000       7.260000       0.520000      17.310000   \n",
       "75%     65764.500000     564.280000      31.982500      23.010000   \n",
       "max    132601.500000    1143.220000      78.090000      46.460000   \n",
       "\n",
       "               WS10m       Int  \n",
       "count  140256.000000  140256.0  \n",
       "mean        1.654366       0.0  \n",
       "std         0.867817       0.0  \n",
       "min         0.000000       0.0  \n",
       "25%         0.970000       0.0  \n",
       "50%         1.590000       0.0  \n",
       "75%         2.280000       0.0  \n",
       "max         7.930000       0.0  "
      ]
     },
     "execution_count": 3,
     "metadata": {},
     "output_type": "execute_result"
    }
   ],
   "source": [
    "from src.pv.pv import read_pv_data\n",
    "\n",
    "df_pv = read_pv_data(\"../pv_150kW.csv\")\n",
    "df_pv.describe()"
   ]
  },
  {
   "cell_type": "code",
   "execution_count": null,
   "id": "bc1ba0c2",
   "metadata": {},
   "outputs": [
    {
     "data": {
      "text/plain": [
       "2.0"
      ]
     },
     "execution_count": 20,
     "metadata": {},
     "output_type": "execute_result"
    }
   ],
   "source": [
    "# Scale the PV to fit the transformer cap\n",
    "max_P = 150 * 1000\n",
    "max_T = transformer_cap * 1000\n",
    "\n",
    "ratio = max_T / max_P\n",
    "df_pv.P = df_pv.P * ratio\n",
    "df_pv.describe()"
   ]
  },
  {
   "cell_type": "code",
   "execution_count": null,
   "id": "ef85f28f",
   "metadata": {},
   "outputs": [],
   "source": [
    "from gymportal.environment import *\n",
    "from src.pv.observations import pv_observation_mean\n",
    "from src.pv.rewards import *\n",
    "\n",
    "observation_objects = [\n",
    "    charging_rates_observation_normalized(),\n",
    "    percentage_of_magnitude_observation(),\n",
    "    diff_pilots_charging_rates_observation_normalized(),\n",
    "    cyclical_minute_observation(),\n",
    "    cyclical_day_observation(),\n",
    "    cyclical_month_observation(),\n",
    "    cyclical_minute_observation_stay(),\n",
    "    energy_delivered_observation_normalized(),\n",
    "    num_active_stations_observation_normalized(),\n",
    "    pilot_signals_observation_normalized(),\n",
    "    cyclical_minute_observation_arrival(),\n",
    "    cyclical_day_observation_arrival(),\n",
    "    cyclical_month_observation_arrival(),\n",
    "    pv_observation_mean(df_pv),\n",
    "]\n",
    "\n",
    "reward_objects = [\n",
    "    pv_utilization_reward(df_pv),\n",
    "    grid_use_penalty(df_pv),\n",
    "    unused_pv_penalty(df_pv),\n",
    "    # charging_reward(),\n",
    "    soft_charging_reward_pv_weighted(df_pv, transformer_cap=transformer_cap),\n",
    "]"
   ]
  },
  {
   "cell_type": "code",
   "execution_count": null,
   "id": "891a4e73",
   "metadata": {},
   "outputs": [],
   "source": [
    "# import dill as pickle\n",
    "\n",
    "# with open(\"../caltech_#stations=54_#days=7_#intervals=46_seed=8734956.pkl\", \"rb\") as file:\n",
    "#     train_generator = pickle.load(file)\n",
    "\n",
    "train_generator.seed = 8734956\n",
    "_ = train_generator.reset()\n",
    "\n",
    "iter = 0\n",
    "\n",
    "while train_generator._current_date != train_generator.start_date:\n",
    "    _ = train_generator.next()\n",
    "\n",
    "    ic(iter)\n",
    "    ic(train_generator._current_date)\n",
    "    iter += 1"
   ]
  },
  {
   "cell_type": "code",
   "execution_count": null,
   "id": "853d26e6",
   "metadata": {},
   "outputs": [],
   "source": [
    "steps_per_epoch = 0\n",
    "for sim in train_generator._sim_memory:\n",
    "    steps_per_epoch += len(sim.event_queue.queue)\n",
    "\n",
    "ic(steps_per_epoch)"
   ]
  },
  {
   "cell_type": "code",
   "execution_count": null,
   "id": "dd9f0954",
   "metadata": {},
   "outputs": [],
   "source": [
    "train_config = {\"observation_objects\": observation_objects, \"action_object\": zero_centered_single_charging_schedule_normalized(),\n",
    "                \"reward_objects\": reward_objects,\n",
    "                \"simgenerator\": train_generator,\n",
    "                \"meet_constraints\": True}\n",
    "\n",
    "eval_config = train_config | {'simgenerator': eval_generator}\n",
    "validation_config = train_config | {'simgenerator': validation_generator}"
   ]
  },
  {
   "cell_type": "code",
   "execution_count": null,
   "id": "b5dd6706",
   "metadata": {},
   "outputs": [],
   "source": [
    "from src.cleanRL import Args\n",
    "from gymportal.evaluation import *\n",
    "from src.pv.metrics import *\n",
    "\n",
    "args = Args(\n",
    "    exp_name=f\"search_cap={transformer_cap}_f={frequency_multiplicator}_d={duration_multiplicator}\",\n",
    "    total_timesteps=steps_per_epoch * 12,\n",
    "    num_steps=steps_per_epoch,\n",
    "    num_envs=1,\n",
    "    ent_coef=1e-4,\n",
    "    # wandb:\n",
    "    track=True,\n",
    "    wandb_project_name=\"cleanRL_test\",\n",
    "    wandb_entity=\"tsturm-university-kassel\",\n",
    "    wandb_group=\"search\",\n",
    "    save_model=True,\n",
    "    # my own stuff:\n",
    "    train_config=train_config,\n",
    "    eval_config=eval_config,\n",
    "    eval_seed=930932,\n",
    "    eval_metrics={\n",
    "        \"SoC >= 90%\": percentage_soc,\n",
    "        \"mean SoC\": mean_soc,\n",
    "        \"median SoC\": median_soc,\n",
    "        \"prop feasible steps\": proportion_of_feasible_charging,\n",
    "        \"prop feasible charge\": proportion_of_feasible_charge,\n",
    "        \"pv utilization\": lambda sim: pv_utilization_metric(sim, df_pv),\n",
    "        \"grid usage\": lambda sim: grid_use_metric(sim, df_pv),\n",
    "        \"unused pv\": lambda sim: unused_pv_metric(sim, df_pv),\n",
    "    },\n",
    ")"
   ]
  },
  {
   "cell_type": "code",
   "execution_count": null,
   "id": "835e690ee840fccf",
   "metadata": {
    "ExecuteTime": {
     "end_time": "2024-11-19T11:15:59.891935100Z",
     "start_time": "2024-11-19T11:15:28.327566700Z"
    },
    "collapsed": false
   },
   "outputs": [],
   "source": [
    "from src.cleanRL import train_ppo\n",
    "from src.cleanRL.environment import make_env\n",
    "\n",
    "\n",
    "train_ppo(args, make_env)"
   ]
  },
  {
   "cell_type": "code",
   "execution_count": null,
   "id": "b512d051",
   "metadata": {},
   "outputs": [],
   "source": [
    "from gymportal.evaluation import ACNSchedule\n",
    "from acnportal.algorithms import UncontrolledCharging, SortedSchedulingAlgo, last_come_first_served, \\\n",
    "    first_come_first_served\n",
    "\n",
    "\n",
    "models = {\n",
    "    \"FCFS\": ACNSchedule(SortedSchedulingAlgo(first_come_first_served)),\n",
    "    \"LCFS\": ACNSchedule(SortedSchedulingAlgo(last_come_first_served)),\n",
    "    \"Uncontrolled\": ACNSchedule(UncontrolledCharging()),\n",
    "}\n",
    "\n",
    "models"
   ]
  },
  {
   "cell_type": "code",
   "execution_count": null,
   "id": "d9c68e7a",
   "metadata": {},
   "outputs": [],
   "source": [
    "from src.run_simulation import run_simulations\n",
    "\n",
    "\n",
    "df = run_simulations(models, metrics=args.eval_metrics,\n",
    "                    config=args.eval_config, seed=args.eval_config[\"simgenerator\"].seed)\n",
    "\n",
    "df"
   ]
  },
  {
   "cell_type": "code",
   "execution_count": null,
   "id": "76ffcc6f",
   "metadata": {},
   "outputs": [],
   "source": [
    "df.to_csv(f\"{args.exp_name}.csv\")"
   ]
  }
 ],
 "metadata": {
  "kernelspec": {
   "display_name": "Python 3",
   "language": "python",
   "name": "python3"
  },
  "language_info": {
   "codemirror_mode": {
    "name": "ipython",
    "version": 3
   },
   "file_extension": ".py",
   "mimetype": "text/x-python",
   "name": "python",
   "nbconvert_exporter": "python",
   "pygments_lexer": "ipython3",
   "version": "3.9.18"
  }
 },
 "nbformat": 4,
 "nbformat_minor": 5
}
