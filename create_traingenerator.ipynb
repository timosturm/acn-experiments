{
 "cells": [
  {
   "cell_type": "markdown",
   "metadata": {},
   "source": [
    "### How to use this:\n",
    "\n",
    "1. Configure the charging_network, battery_generator, ev_generator and train_generator.\n",
    "2. Run `jupyter nbconvert --to python create_traingenerator.ipynb`, to convert this notebook to a python script.\n",
    "3. Run `nohup python create_traingenerator.py &`, to run this script in detached mode; output will be written to `nohup.out`.\n",
    "4. The resulting sim_generator is stored as a `.pkl` file that is named after some interesting properties of it, e.g.,\n",
    "    `caltech_#stations=54_#days=7_#intervals=46_seed=8734956.pkl`.\n",
    "5. Copy this file to the folder you want to use it in and load the generator:\n",
    "    ```python\n",
    "    import dill as pickle\n",
    "    with open(file_path, \"wb\") as file:\n",
    "        train_generator = pickle.load(file)\n",
    "    ```\n",
    "6. Make sure to reset the environment once with the same seed as the train_generator:\n",
    "    `env.reset(seed=env.env.simgenerator.seed)`, otherwise the enviroment will be reset with a random seed and the generated simulations will be deleted."
   ]
  },
  {
   "cell_type": "code",
   "execution_count": 1,
   "metadata": {},
   "outputs": [
    {
     "name": "stderr",
     "output_type": "stream",
     "text": [
      "ic| os.getpid(): 241728\n"
     ]
    },
    {
     "data": {
      "text/plain": [
       "241728"
      ]
     },
     "execution_count": 1,
     "metadata": {},
     "output_type": "execute_result"
    }
   ],
   "source": [
    "# This is importent when we want to call this as a python script, because jupyter naturally has a higher recursion depth\n",
    "import sys\n",
    "sys.setrecursionlimit(3000)\n",
    "\n",
    "# Print the PID when using nohup\n",
    "import os\n",
    "from icecream import ic\n",
    "ic(os.getpid())"
   ]
  },
  {
   "cell_type": "code",
   "execution_count": null,
   "metadata": {},
   "outputs": [
    {
     "name": "stderr",
     "output_type": "stream",
     "text": [
      "ic| train_generator.end_date + timedelta(days=1): datetime.datetime(2019, 11, 20, 0, 0, tzinfo=<DstTzInfo 'America/Los_Angeles' PST-1 day, 16:00:00 STD>)\n",
      "ic| eval_generator.end_date + timedelta(days=1): datetime.datetime(2019, 11, 28, 0, 0, tzinfo=<DstTzInfo 'America/Los_Angeles' PST-1 day, 16:00:00 STD>)\n",
      "ic| validation_generator.end_date + timedelta(days=1): datetime.datetime(2019, 12, 13, 0, 0, tzinfo=<DstTzInfo 'America/Los_Angeles' PST-1 day, 16:00:00 STD>)\n"
     ]
    }
   ],
   "source": [
    "from gymportal.data.ev_generators import get_standard_generator, RealWorldGenerator\n",
    "from acnportal.acnsim import Linear2StageBattery\n",
    "from gymportal.data.battery_generators import CustomizableBatteryGenerator\n",
    "from gymportal.sim import get_charging_network, Recomputer, EvaluationSimulator, SimGenerator\n",
    "from datetime import datetime, timedelta\n",
    "\n",
    "import pytz\n",
    "timezone = pytz.timezone(\"America/Los_Angeles\")\n",
    "\n",
    "\n",
    "# charging_network = get_charging_network('simple_acn', basic_evse=True, voltage=208,\n",
    "#                                         network_kwargs={\n",
    "#                                             'station_ids': ['CA-504', 'CA-503', 'CA-502', 'CA-501'],\n",
    "#                                              #'station_ids': ['CA-501'],\n",
    "# \"aggregate_cap\": 32 * 208 / 1000})\n",
    "\n",
    "transformer_cap = 150\n",
    "charging_network = get_charging_network('caltech', basic_evse=True, voltage=208,\n",
    "                                        network_kwargs={\"transformer_cap\": transformer_cap})\n",
    "\n",
    "battery_generator = CustomizableBatteryGenerator(\n",
    "    voltage=208,\n",
    "    period=1,\n",
    "    battery_types=[\n",
    "        Linear2StageBattery],\n",
    "    max_power_function=\"normal\",\n",
    ")\n",
    "\n",
    "ev_generator = RealWorldGenerator(battery_generator=battery_generator, site='caltech', period=1)\n",
    "# ev_generator = get_standard_generator(\n",
    "#     'caltech', battery_generator, seed=42, frequency_multiplicator=frequency_multiplicator, duration_multiplicator=2)\n",
    "\n",
    "train_generator = SimGenerator(\n",
    "    charging_network=charging_network,\n",
    "    simulation_days=7,\n",
    "    n_intervals=46,\n",
    "    start_date=timezone.localize(datetime(2019, 1, 1)),\n",
    "    ev_generator=ev_generator,\n",
    "    recomputer=Recomputer(recompute_interval=10, sparse=True),\n",
    "    sim_class=EvaluationSimulator,\n",
    ")\n",
    "\n",
    "ic(train_generator.end_date + timedelta(days=1))\n",
    "\n",
    "eval_generator = SimGenerator(\n",
    "    charging_network=charging_network,\n",
    "    simulation_days=7,\n",
    "    n_intervals=1,\n",
    "    start_date=train_generator.end_date + timedelta(days=1),\n",
    "    ev_generator=ev_generator,\n",
    "    recomputer=Recomputer(recompute_interval=10, sparse=True),\n",
    "    sim_class=EvaluationSimulator,\n",
    ")\n",
    "\n",
    "ic(eval_generator.end_date + timedelta(days=1))\n",
    "\n",
    "validation_generator = SimGenerator(\n",
    "    charging_network=charging_network,\n",
    "    simulation_days=14,\n",
    "    n_intervals=1,\n",
    "    start_date=eval_generator.end_date + timedelta(days=1),\n",
    "    ev_generator=ev_generator,\n",
    "    recomputer=Recomputer(recompute_interval=10, sparse=True),\n",
    "    sim_class=EvaluationSimulator,\n",
    ")\n",
    "\n",
    "ic(validation_generator.end_date + timedelta(days=1))\n",
    "pass"
   ]
  },
  {
   "cell_type": "code",
   "execution_count": null,
   "metadata": {},
   "outputs": [
    {
     "name": "stderr",
     "output_type": "stream",
     "text": [
      "ic| train_generator.start_date: datetime.datetime(2019, 1, 1, 0, 0, tzinfo=<DstTzInfo 'America/Los_Angeles' PST-1 day, 16:00:00 STD>)\n",
      "ic| train_generator._current_date: datetime.datetime(2019, 1, 1, 0, 0, tzinfo=<DstTzInfo 'America/Los_Angeles' PST-1 day, 16:00:00 STD>)\n",
      "ic| train_generator._current_date: datetime.datetime(2019, 1, 8, 0, 0, tzinfo=<DstTzInfo 'America/Los_Angeles' PST-1 day, 16:00:00 STD>)\n",
      "ic| train_generator._current_date != train_generator.start_date: True\n",
      "ic| iter: 0\n",
      "ic| train_generator._current_date: datetime.datetime(2019, 1, 15, 0, 0, tzinfo=<DstTzInfo 'America/Los_Angeles' PST-1 day, 16:00:00 STD>)\n",
      "ic| iter: 1\n",
      "ic| train_generator._current_date: datetime.datetime(2019, 1, 22, 0, 0, tzinfo=<DstTzInfo 'America/Los_Angeles' PST-1 day, 16:00:00 STD>)\n",
      "ic| iter: 2\n",
      "ic| train_generator._current_date: datetime.datetime(2019, 1, 29, 0, 0, tzinfo=<DstTzInfo 'America/Los_Angeles' PST-1 day, 16:00:00 STD>)\n",
      "ic| iter: 3\n",
      "ic| train_generator._current_date: datetime.datetime(2019, 2, 5, 0, 0, tzinfo=<DstTzInfo 'America/Los_Angeles' PST-1 day, 16:00:00 STD>)\n",
      "ic| iter: 4\n",
      "ic| train_generator._current_date: datetime.datetime(2019, 2, 12, 0, 0, tzinfo=<DstTzInfo 'America/Los_Angeles' PST-1 day, 16:00:00 STD>)\n",
      "ic| iter: 5\n",
      "ic| train_generator._current_date: datetime.datetime(2019, 2, 19, 0, 0, tzinfo=<DstTzInfo 'America/Los_Angeles' PST-1 day, 16:00:00 STD>)\n",
      "ic| iter: 6\n",
      "ic| train_generator._current_date: datetime.datetime(2019, 2, 26, 0, 0, tzinfo=<DstTzInfo 'America/Los_Angeles' PST-1 day, 16:00:00 STD>)\n",
      "ic| iter: 7\n",
      "ic| train_generator._current_date: datetime.datetime(2019, 3, 5, 0, 0, tzinfo=<DstTzInfo 'America/Los_Angeles' PST-1 day, 16:00:00 STD>)\n",
      "ic| iter: 8\n",
      "ic| train_generator._current_date: datetime.datetime(2019, 3, 12, 0, 0, tzinfo=<DstTzInfo 'America/Los_Angeles' PST-1 day, 16:00:00 STD>)\n",
      "ic| iter: 9\n",
      "ic| train_generator._current_date: datetime.datetime(2019, 3, 19, 0, 0, tzinfo=<DstTzInfo 'America/Los_Angeles' PST-1 day, 16:00:00 STD>)\n",
      "ic| iter: 10\n",
      "ic| train_generator._current_date: datetime.datetime(2019, 3, 26, 0, 0, tzinfo=<DstTzInfo 'America/Los_Angeles' PST-1 day, 16:00:00 STD>)\n",
      "ic| iter: 11\n",
      "ic| train_generator._current_date: datetime.datetime(2019, 4, 2, 0, 0, tzinfo=<DstTzInfo 'America/Los_Angeles' PST-1 day, 16:00:00 STD>)\n",
      "ic| iter: 12\n",
      "ic| train_generator._current_date: datetime.datetime(2019, 4, 9, 0, 0, tzinfo=<DstTzInfo 'America/Los_Angeles' PST-1 day, 16:00:00 STD>)\n",
      "ic| iter: 13\n",
      "ic| train_generator._current_date: datetime.datetime(2019, 4, 16, 0, 0, tzinfo=<DstTzInfo 'America/Los_Angeles' PST-1 day, 16:00:00 STD>)\n",
      "ic| iter: 14\n",
      "ic| train_generator._current_date: datetime.datetime(2019, 4, 23, 0, 0, tzinfo=<DstTzInfo 'America/Los_Angeles' PST-1 day, 16:00:00 STD>)\n",
      "ic| iter: 15\n",
      "ic| train_generator._current_date: datetime.datetime(2019, 4, 30, 0, 0, tzinfo=<DstTzInfo 'America/Los_Angeles' PST-1 day, 16:00:00 STD>)\n",
      "ic| iter: 16\n",
      "ic| train_generator._current_date: datetime.datetime(2019, 5, 7, 0, 0, tzinfo=<DstTzInfo 'America/Los_Angeles' PST-1 day, 16:00:00 STD>)\n",
      "ic| iter: 17\n",
      "ic| train_generator._current_date: datetime.datetime(2019, 5, 14, 0, 0, tzinfo=<DstTzInfo 'America/Los_Angeles' PST-1 day, 16:00:00 STD>)\n",
      "ic| iter: 18\n",
      "ic| train_generator._current_date: datetime.datetime(2019, 5, 21, 0, 0, tzinfo=<DstTzInfo 'America/Los_Angeles' PST-1 day, 16:00:00 STD>)\n",
      "ic| iter: 19\n",
      "ic| train_generator._current_date: datetime.datetime(2019, 5, 28, 0, 0, tzinfo=<DstTzInfo 'America/Los_Angeles' PST-1 day, 16:00:00 STD>)\n",
      "ic| iter: 20\n",
      "ic| train_generator._current_date: datetime.datetime(2019, 6, 4, 0, 0, tzinfo=<DstTzInfo 'America/Los_Angeles' PST-1 day, 16:00:00 STD>)\n",
      "ic| iter: 21\n",
      "ic| train_generator._current_date: datetime.datetime(2019, 6, 11, 0, 0, tzinfo=<DstTzInfo 'America/Los_Angeles' PST-1 day, 16:00:00 STD>)\n",
      "ic| iter: 22\n",
      "ic| train_generator._current_date: datetime.datetime(2019, 6, 18, 0, 0, tzinfo=<DstTzInfo 'America/Los_Angeles' PST-1 day, 16:00:00 STD>)\n",
      "ic| iter: 23\n",
      "ic| train_generator._current_date: datetime.datetime(2019, 6, 25, 0, 0, tzinfo=<DstTzInfo 'America/Los_Angeles' PST-1 day, 16:00:00 STD>)\n",
      "ic| iter: 24\n",
      "ic| train_generator._current_date: datetime.datetime(2019, 7, 2, 0, 0, tzinfo=<DstTzInfo 'America/Los_Angeles' PST-1 day, 16:00:00 STD>)\n",
      "ic| iter: 25\n",
      "ic| train_generator._current_date: datetime.datetime(2019, 7, 9, 0, 0, tzinfo=<DstTzInfo 'America/Los_Angeles' PST-1 day, 16:00:00 STD>)\n",
      "ic| iter: 26\n",
      "ic| train_generator._current_date: datetime.datetime(2019, 7, 16, 0, 0, tzinfo=<DstTzInfo 'America/Los_Angeles' PST-1 day, 16:00:00 STD>)\n",
      "ic| iter: 27\n",
      "ic| train_generator._current_date: datetime.datetime(2019, 7, 23, 0, 0, tzinfo=<DstTzInfo 'America/Los_Angeles' PST-1 day, 16:00:00 STD>)\n",
      "ic| iter: 28\n",
      "ic| train_generator._current_date: datetime.datetime(2019, 7, 30, 0, 0, tzinfo=<DstTzInfo 'America/Los_Angeles' PST-1 day, 16:00:00 STD>)\n",
      "ic| iter: 29\n",
      "ic| train_generator._current_date: datetime.datetime(2019, 8, 6, 0, 0, tzinfo=<DstTzInfo 'America/Los_Angeles' PST-1 day, 16:00:00 STD>)\n",
      "ic| iter: 30\n",
      "ic| train_generator._current_date: datetime.datetime(2019, 8, 13, 0, 0, tzinfo=<DstTzInfo 'America/Los_Angeles' PST-1 day, 16:00:00 STD>)\n",
      "ic| iter: 31\n",
      "ic| train_generator._current_date: datetime.datetime(2019, 8, 20, 0, 0, tzinfo=<DstTzInfo 'America/Los_Angeles' PST-1 day, 16:00:00 STD>)\n",
      "ic| iter: 32\n",
      "ic| train_generator._current_date: datetime.datetime(2019, 8, 27, 0, 0, tzinfo=<DstTzInfo 'America/Los_Angeles' PST-1 day, 16:00:00 STD>)\n",
      "ic| iter: 33\n",
      "ic| train_generator._current_date: datetime.datetime(2019, 9, 3, 0, 0, tzinfo=<DstTzInfo 'America/Los_Angeles' PST-1 day, 16:00:00 STD>)\n",
      "ic| iter: 34\n",
      "ic| train_generator._current_date: datetime.datetime(2019, 9, 10, 0, 0, tzinfo=<DstTzInfo 'America/Los_Angeles' PST-1 day, 16:00:00 STD>)\n",
      "ic| iter: 35\n",
      "ic| train_generator._current_date: datetime.datetime(2019, 9, 17, 0, 0, tzinfo=<DstTzInfo 'America/Los_Angeles' PST-1 day, 16:00:00 STD>)\n",
      "ic| iter: 36\n",
      "ic| train_generator._current_date: datetime.datetime(2019, 9, 24, 0, 0, tzinfo=<DstTzInfo 'America/Los_Angeles' PST-1 day, 16:00:00 STD>)\n",
      "ic| iter: 37\n",
      "ic| train_generator._current_date: datetime.datetime(2019, 10, 1, 0, 0, tzinfo=<DstTzInfo 'America/Los_Angeles' PST-1 day, 16:00:00 STD>)\n",
      "ic| iter: 38\n",
      "ic| train_generator._current_date: datetime.datetime(2019, 10, 8, 0, 0, tzinfo=<DstTzInfo 'America/Los_Angeles' PST-1 day, 16:00:00 STD>)\n",
      "ic| iter: 39\n",
      "ic| train_generator._current_date: datetime.datetime(2019, 10, 15, 0, 0, tzinfo=<DstTzInfo 'America/Los_Angeles' PST-1 day, 16:00:00 STD>)\n",
      "ic| iter: 40\n",
      "ic| train_generator._current_date: datetime.datetime(2019, 10, 22, 0, 0, tzinfo=<DstTzInfo 'America/Los_Angeles' PST-1 day, 16:00:00 STD>)\n",
      "ic| iter: 41\n",
      "ic| train_generator._current_date: datetime.datetime(2019, 10, 29, 0, 0, tzinfo=<DstTzInfo 'America/Los_Angeles' PST-1 day, 16:00:00 STD>)\n",
      "ic| iter: 42\n",
      "ic| train_generator._current_date: datetime.datetime(2019, 11, 5, 0, 0, tzinfo=<DstTzInfo 'America/Los_Angeles' PST-1 day, 16:00:00 STD>)\n",
      "ic| iter: 43\n",
      "ic| train_generator._current_date: datetime.datetime(2019, 11, 12, 0, 0, tzinfo=<DstTzInfo 'America/Los_Angeles' PST-1 day, 16:00:00 STD>)\n",
      "ic| iter: 44\n",
      "ic| train_generator._current_date: datetime.datetime(2019, 11, 19, 0, 0, tzinfo=<DstTzInfo 'America/Los_Angeles' PST-1 day, 16:00:00 STD>)\n",
      "ic| iter: 45\n",
      "ic| train_generator._current_date: datetime.datetime(2019, 1, 1, 0, 0, tzinfo=<DstTzInfo 'America/Los_Angeles' PST-1 day, 16:00:00 STD>)\n"
     ]
    }
   ],
   "source": [
    "train_generator.seed = 8734956\n",
    "ic(train_generator.start_date)\n",
    "ic(train_generator._current_date)\n",
    "_ = train_generator.reset()\n",
    "ic(train_generator._current_date)\n",
    "ic(train_generator._current_date != train_generator.start_date)\n",
    "\n",
    "iter = 0\n",
    "\n",
    "while train_generator._current_date != train_generator.start_date:\n",
    "    _ = train_generator.next()\n",
    "    \n",
    "    ic(iter)\n",
    "    ic(train_generator._current_date)\n",
    "    iter += 1"
   ]
  },
  {
   "cell_type": "code",
   "execution_count": 4,
   "metadata": {},
   "outputs": [
    {
     "name": "stderr",
     "output_type": "stream",
     "text": [
      "ic| train_generator._current_date == train_generator.start_date: True\n"
     ]
    },
    {
     "data": {
      "text/plain": [
       "True"
      ]
     },
     "execution_count": 4,
     "metadata": {},
     "output_type": "execute_result"
    }
   ],
   "source": [
    "ic(train_generator._current_date == train_generator.start_date)"
   ]
  },
  {
   "cell_type": "code",
   "execution_count": null,
   "metadata": {},
   "outputs": [],
   "source": [
    "import dill as pickle\n",
    "\n",
    "file_path = f\"caltech_#stations={len(charging_network.station_ids)}_#days={train_generator._simulation_days}_#intervals={train_generator._n_intervals}_transformer_cap={transformer_cap}_seed={train_generator.seed}.pkl\""
   ]
  },
  {
   "cell_type": "code",
   "execution_count": 6,
   "metadata": {},
   "outputs": [],
   "source": [
    "\n",
    "with open(file_path, \"wb\") as file:\n",
    "    pickle.dump(train_generator, file)"
   ]
  },
  {
   "cell_type": "code",
   "execution_count": null,
   "metadata": {},
   "outputs": [],
   "source": [
    "del train_generator"
   ]
  },
  {
   "cell_type": "code",
   "execution_count": 7,
   "metadata": {},
   "outputs": [
    {
     "data": {
      "text/plain": [
       "<gymportal.sim.sim_generator.SimGenerator at 0x7fe12ce0f250>"
      ]
     },
     "execution_count": 7,
     "metadata": {},
     "output_type": "execute_result"
    }
   ],
   "source": [
    "with open(file_path, \"rb\") as file: \n",
    "    loaded = pickle.load(file)\n",
    "    \n",
    "loaded"
   ]
  },
  {
   "cell_type": "code",
   "execution_count": 8,
   "metadata": {},
   "outputs": [],
   "source": [
    "train_generator = loaded"
   ]
  },
  {
   "cell_type": "code",
   "execution_count": null,
   "metadata": {},
   "outputs": [],
   "source": [
    "from gymportal.environment import *\n",
    "\n",
    "\n",
    "observation_objects = [\n",
    "    charging_rates_observation_normalized(),\n",
    "    percentage_of_magnitude_observation(),\n",
    "    diff_pilots_charging_rates_observation_normalized(),\n",
    "    cyclical_minute_observation(),\n",
    "    cyclical_day_observation(),\n",
    "    cyclical_month_observation(),\n",
    "    cyclical_minute_observation_stay(),\n",
    "    energy_delivered_observation_normalized(),\n",
    "    num_active_stations_observation_normalized(),\n",
    "    pilot_signals_observation_normalized(),\n",
    "    cyclical_minute_observation_arrival(),\n",
    "    cyclical_day_observation_arrival(),\n",
    "    cyclical_month_observation_arrival(),\n",
    "]\n",
    "\n",
    "reward_objects = [\n",
    "    # current_constraint_violation(),\n",
    "    soft_charging_reward(),\n",
    "    # constraint_charging_reward(),\n",
    "    # unplug_penalty(),\n",
    "    # pilot_charging_rate_difference_penalty(),\n",
    "]"
   ]
  },
  {
   "cell_type": "code",
   "execution_count": null,
   "metadata": {},
   "outputs": [],
   "source": [
    "from src.actions import ranking_schedule\n",
    "\n",
    "train_config = {\"observation_objects\": observation_objects, \"action_object\": ranking_schedule(),\n",
    "                \"reward_objects\": reward_objects,\n",
    "                \"simgenerator\": train_generator,\n",
    "                \"meet_constraints\": True}\n",
    "\n",
    "eval_config = train_config | {'simgenerator': eval_generator}\n",
    "validation_config = train_config | {'simgenerator': validation_generator}"
   ]
  },
  {
   "cell_type": "code",
   "execution_count": null,
   "metadata": {},
   "outputs": [],
   "source": [
    "from gymportal.environment import SingleAgentSimEnv\n",
    "\n",
    "env = SingleAgentSimEnv(train_config)\n",
    "env.unwrapped.simgenerator.seed"
   ]
  },
  {
   "cell_type": "code",
   "execution_count": null,
   "metadata": {},
   "outputs": [
    {
     "data": {
      "text/plain": [
       "array([gymportal.sim.simulators_custom.EvaluationSimulator(network=<gymportal.sim.charging_network_custom.Float32ChargingNetwork object at 0x7fe12295c130>, scheduler=None, max_recompute=None, event_queue=<acnportal.acnsim.events.event_queue.EventQueue object at 0x7fe12295c730>, start=<datetime.datetime object at 0x7fe12295c7b0>, period=1, signals=None, verbose=False, pilot_signals=<numpy.ndarray object at 0x7fe122956e70>, charging_rates=<numpy.ndarray object at 0x7fe122978030>, peak=0, ev_history=<dict object at 0x7fe12296e280>, event_history=<list object at 0x7fe122fe0280>, schedule_history=None, _iteration=0, _resolve=False, _last_schedule_update=None, last_timestamp=9638, remaining_demand=<numpy.ndarray object at 0x7fe122978090>, maximum_charging_power=<numpy.ndarray object at 0x7fe1229780f0>, soc=<numpy.ndarray object at 0x7fe122978150>, requested_energy=<numpy.ndarray object at 0x7fe1229781b0>, times=<numpy.ndarray object at 0x7fe122978210>, reward_timesteps=<list object at 0x7fe122a105c0>, reward_signals=<dict object at 0x7fe1229770c0>),\n",
       "       gymportal.sim.simulators_custom.EvaluationSimulator(network=<gymportal.sim.charging_network_custom.Float32ChargingNetwork object at 0x7fe12295c130>, scheduler=None, max_recompute=None, event_queue=<acnportal.acnsim.events.event_queue.EventQueue object at 0x7fe12295c7f0>, start=<datetime.datetime object at 0x7fe122975450>, period=1, signals=None, verbose=False, pilot_signals=<numpy.ndarray object at 0x7fe122978270>, charging_rates=<numpy.ndarray object at 0x7fe1229782d0>, peak=0, ev_history=<dict object at 0x7fe122916bc0>, event_history=<list object at 0x7fe122973300>, schedule_history=None, _iteration=0, _resolve=False, _last_schedule_update=None, last_timestamp=9761, remaining_demand=<numpy.ndarray object at 0x7fe122978330>, maximum_charging_power=<numpy.ndarray object at 0x7fe122978390>, soc=<numpy.ndarray object at 0x7fe1229783f0>, requested_energy=<numpy.ndarray object at 0x7fe122978450>, times=<numpy.ndarray object at 0x7fe1229784b0>, reward_timesteps=<list object at 0x7fe12291fd80>, reward_signals=<dict object at 0x7fe122925300>),\n",
       "       gymportal.sim.simulators_custom.EvaluationSimulator(network=<gymportal.sim.charging_network_custom.Float32ChargingNetwork object at 0x7fe12295c130>, scheduler=None, max_recompute=None, event_queue=<acnportal.acnsim.events.event_queue.EventQueue object at 0x7fe1229754f0>, start=<datetime.datetime object at 0x7fe122921de0>, period=1, signals=None, verbose=False, pilot_signals=<numpy.ndarray object at 0x7fe122978570>, charging_rates=<numpy.ndarray object at 0x7fe122978510>, peak=0, ev_history=<dict object at 0x7fe12cdf3cc0>, event_history=<list object at 0x7fe12ceffd00>, schedule_history=None, _iteration=0, _resolve=False, _last_schedule_update=None, last_timestamp=5264, remaining_demand=<numpy.ndarray object at 0x7fe1229785d0>, maximum_charging_power=<numpy.ndarray object at 0x7fe122978630>, soc=<numpy.ndarray object at 0x7fe122978690>, requested_energy=<numpy.ndarray object at 0x7fe1229786f0>, times=<numpy.ndarray object at 0x7fe122978750>, reward_timesteps=<list object at 0x7fe122936740>, reward_signals=<dict object at 0x7fe122d022c0>),\n",
       "       gymportal.sim.simulators_custom.EvaluationSimulator(network=<gymportal.sim.charging_network_custom.Float32ChargingNetwork object at 0x7fe12295c130>, scheduler=None, max_recompute=None, event_queue=<acnportal.acnsim.events.event_queue.EventQueue object at 0x7fe1228ca550>, start=<datetime.datetime object at 0x7fe1228ca5a0>, period=1, signals=None, verbose=False, pilot_signals=<numpy.ndarray object at 0x7fe1229787b0>, charging_rates=<numpy.ndarray object at 0x7fe122978810>, peak=0, ev_history=<dict object at 0x7fe1228e0380>, event_history=<list object at 0x7fe1228e0c80>, schedule_history=None, _iteration=0, _resolve=False, _last_schedule_update=None, last_timestamp=9581, remaining_demand=<numpy.ndarray object at 0x7fe122978870>, maximum_charging_power=<numpy.ndarray object at 0x7fe1229788d0>, soc=<numpy.ndarray object at 0x7fe122978930>, requested_energy=<numpy.ndarray object at 0x7fe122978990>, times=<numpy.ndarray object at 0x7fe1229789f0>, reward_timesteps=<list object at 0x7fe1228e0c00>, reward_signals=<dict object at 0x7fe1228ede40>),\n",
       "       gymportal.sim.simulators_custom.EvaluationSimulator(network=<gymportal.sim.charging_network_custom.Float32ChargingNetwork object at 0x7fe12295c130>, scheduler=None, max_recompute=None, event_queue=<acnportal.acnsim.events.event_queue.EventQueue object at 0x7fe1228ca640>, start=<datetime.datetime object at 0x7fe1228ecd80>, period=1, signals=None, verbose=False, pilot_signals=<numpy.ndarray object at 0x7fe122978ab0>, charging_rates=<numpy.ndarray object at 0x7fe122978a50>, peak=0, ev_history=<dict object at 0x7fe122889680>, event_history=<list object at 0x7fe12288cf00>, schedule_history=None, _iteration=0, _resolve=False, _last_schedule_update=None, last_timestamp=5329, remaining_demand=<numpy.ndarray object at 0x7fe122978b10>, maximum_charging_power=<numpy.ndarray object at 0x7fe122978b70>, soc=<numpy.ndarray object at 0x7fe122978bd0>, requested_energy=<numpy.ndarray object at 0x7fe122978c30>, times=<numpy.ndarray object at 0x7fe122978c90>, reward_timesteps=<list object at 0x7fe12288ce80>, reward_signals=<dict object at 0x7fe1228929c0>),\n",
       "       gymportal.sim.simulators_custom.EvaluationSimulator(network=<gymportal.sim.charging_network_custom.Float32ChargingNetwork object at 0x7fe12295c130>, scheduler=None, max_recompute=None, event_queue=<acnportal.acnsim.events.event_queue.EventQueue object at 0x7fe1228ece20>, start=<datetime.datetime object at 0x7fe122891d80>, period=1, signals=None, verbose=False, pilot_signals=<numpy.ndarray object at 0x7fe122978cf0>, charging_rates=<numpy.ndarray object at 0x7fe122978d50>, peak=0, ev_history=<dict object at 0x7fe1228b9200>, event_history=<list object at 0x7fe1228b9140>, schedule_history=None, _iteration=0, _resolve=False, _last_schedule_update=None, last_timestamp=9623, remaining_demand=<numpy.ndarray object at 0x7fe122978db0>, maximum_charging_power=<numpy.ndarray object at 0x7fe122978e10>, soc=<numpy.ndarray object at 0x7fe122978e70>, requested_energy=<numpy.ndarray object at 0x7fe122978ed0>, times=<numpy.ndarray object at 0x7fe122978f30>, reward_timesteps=<list object at 0x7fe1228b90c0>, reward_signals=<dict object at 0x7fe122846180>),\n",
       "       gymportal.sim.simulators_custom.EvaluationSimulator(network=<gymportal.sim.charging_network_custom.Float32ChargingNetwork object at 0x7fe12295c130>, scheduler=None, max_recompute=None, event_queue=<acnportal.acnsim.events.event_queue.EventQueue object at 0x7fe122891e20>, start=<datetime.datetime object at 0x7fe122845690>, period=1, signals=None, verbose=False, pilot_signals=<numpy.ndarray object at 0x7fe122978f90>, charging_rates=<numpy.ndarray object at 0x7fe122865030>, peak=0, ev_history=<dict object at 0x7fe1228526c0>, event_history=<list object at 0x7fe122864480>, schedule_history=None, _iteration=0, _resolve=False, _last_schedule_update=None, last_timestamp=5399, remaining_demand=<numpy.ndarray object at 0x7fe122865090>, maximum_charging_power=<numpy.ndarray object at 0x7fe1228650f0>, soc=<numpy.ndarray object at 0x7fe122865150>, requested_energy=<numpy.ndarray object at 0x7fe1228651b0>, times=<numpy.ndarray object at 0x7fe122865210>, reward_timesteps=<list object at 0x7fe122864400>, reward_signals=<dict object at 0x7fe1228647c0>),\n",
       "       gymportal.sim.simulators_custom.EvaluationSimulator(network=<gymportal.sim.charging_network_custom.Float32ChargingNetwork object at 0x7fe12295c130>, scheduler=None, max_recompute=None, event_queue=<acnportal.acnsim.events.event_queue.EventQueue object at 0x7fe122845730>, start=<datetime.datetime object at 0x7fe122845750>, period=1, signals=None, verbose=False, pilot_signals=<numpy.ndarray object at 0x7fe1228652d0>, charging_rates=<numpy.ndarray object at 0x7fe122865270>, peak=0, ev_history=<dict object at 0x7fe122880c00>, event_history=<list object at 0x7fe122811700>, schedule_history=None, _iteration=0, _resolve=False, _last_schedule_update=None, last_timestamp=9815, remaining_demand=<numpy.ndarray object at 0x7fe122865330>, maximum_charging_power=<numpy.ndarray object at 0x7fe122865390>, soc=<numpy.ndarray object at 0x7fe1228653f0>, requested_energy=<numpy.ndarray object at 0x7fe122865450>, times=<numpy.ndarray object at 0x7fe1228654b0>, reward_timesteps=<list object at 0x7fe122811680>, reward_signals=<dict object at 0x7fe122814400>),\n",
       "       gymportal.sim.simulators_custom.EvaluationSimulator(network=<gymportal.sim.charging_network_custom.Float32ChargingNetwork object at 0x7fe12295c130>, scheduler=None, max_recompute=None, event_queue=<acnportal.acnsim.events.event_queue.EventQueue object at 0x7fe122863700>, start=<datetime.datetime object at 0x7fe122863750>, period=1, signals=None, verbose=False, pilot_signals=<numpy.ndarray object at 0x7fe122865510>, charging_rates=<numpy.ndarray object at 0x7fe122865570>, peak=0, ev_history=<dict object at 0x7fe12282c740>, event_history=<list object at 0x7fe1228299c0>, schedule_history=None, _iteration=0, _resolve=False, _last_schedule_update=None, last_timestamp=9692, remaining_demand=<numpy.ndarray object at 0x7fe1228655d0>, maximum_charging_power=<numpy.ndarray object at 0x7fe122865630>, soc=<numpy.ndarray object at 0x7fe122865690>, requested_energy=<numpy.ndarray object at 0x7fe1228656f0>, times=<numpy.ndarray object at 0x7fe122865750>, reward_timesteps=<list object at 0x7fe122829a40>, reward_signals=<dict object at 0x7fe12283af00>),\n",
       "       gymportal.sim.simulators_custom.EvaluationSimulator(network=<gymportal.sim.charging_network_custom.Float32ChargingNetwork object at 0x7fe12295c130>, scheduler=None, max_recompute=None, event_queue=<acnportal.acnsim.events.event_queue.EventQueue object at 0x7fe1228636a0>, start=<datetime.datetime object at 0x7fe12282d150>, period=1, signals=None, verbose=False, pilot_signals=<numpy.ndarray object at 0x7fe1228657b0>, charging_rates=<numpy.ndarray object at 0x7fe122865810>, peak=0, ev_history=<dict object at 0x7fe1227cf800>, event_history=<list object at 0x7fe122841f40>, schedule_history=None, _iteration=0, _resolve=False, _last_schedule_update=None, last_timestamp=9812, remaining_demand=<numpy.ndarray object at 0x7fe122865870>, maximum_charging_power=<numpy.ndarray object at 0x7fe1228658d0>, soc=<numpy.ndarray object at 0x7fe122865930>, requested_energy=<numpy.ndarray object at 0x7fe122865990>, times=<numpy.ndarray object at 0x7fe1228659f0>, reward_timesteps=<list object at 0x7fe122841fc0>, reward_signals=<dict object at 0x7fe1227d8fc0>),\n",
       "       gymportal.sim.simulators_custom.EvaluationSimulator(network=<gymportal.sim.charging_network_custom.Float32ChargingNetwork object at 0x7fe12295c130>, scheduler=None, max_recompute=None, event_queue=<acnportal.acnsim.events.event_queue.EventQueue object at 0x7fe122863730>, start=<datetime.datetime object at 0x7fe122839c60>, period=1, signals=None, verbose=False, pilot_signals=<numpy.ndarray object at 0x7fe122865a50>, charging_rates=<numpy.ndarray object at 0x7fe122865ab0>, peak=0, ev_history=<dict object at 0x7fe1227f8b80>, event_history=<list object at 0x7fe1227f4840>, schedule_history=None, _iteration=0, _resolve=False, _last_schedule_update=None, last_timestamp=9589, remaining_demand=<numpy.ndarray object at 0x7fe122865b10>, maximum_charging_power=<numpy.ndarray object at 0x7fe122865b70>, soc=<numpy.ndarray object at 0x7fe122865bd0>, requested_energy=<numpy.ndarray object at 0x7fe122865c30>, times=<numpy.ndarray object at 0x7fe122865c90>, reward_timesteps=<list object at 0x7fe1227f47c0>, reward_signals=<dict object at 0x7fe122785140>),\n",
       "       gymportal.sim.simulators_custom.EvaluationSimulator(network=<gymportal.sim.charging_network_custom.Float32ChargingNetwork object at 0x7fe12295c130>, scheduler=None, max_recompute=None, event_queue=<acnportal.acnsim.events.event_queue.EventQueue object at 0x7fe1228636d0>, start=<datetime.datetime object at 0x7fe1227d7ba0>, period=1, signals=None, verbose=False, pilot_signals=<numpy.ndarray object at 0x7fe122865d50>, charging_rates=<numpy.ndarray object at 0x7fe122865cf0>, peak=0, ev_history=<dict object at 0x7fe1227950c0>, event_history=<list object at 0x7fe12278cb80>, schedule_history=None, _iteration=0, _resolve=False, _last_schedule_update=None, last_timestamp=2457, remaining_demand=<numpy.ndarray object at 0x7fe122865db0>, maximum_charging_power=<numpy.ndarray object at 0x7fe122865e10>, soc=<numpy.ndarray object at 0x7fe122865e70>, requested_energy=<numpy.ndarray object at 0x7fe122865ed0>, times=<numpy.ndarray object at 0x7fe122865f30>, reward_timesteps=<list object at 0x7fe12278cc00>, reward_signals=<dict object at 0x7fe122797280>),\n",
       "       gymportal.sim.simulators_custom.EvaluationSimulator(network=<gymportal.sim.charging_network_custom.Float32ChargingNetwork object at 0x7fe12295c130>, scheduler=None, max_recompute=None, event_queue=<acnportal.acnsim.events.event_queue.EventQueue object at 0x7fe1227c5d60>, start=<datetime.datetime object at 0x7fe122801ab0>, period=1, signals=None, verbose=False, pilot_signals=<numpy.ndarray object at 0x7fe122865f90>, charging_rates=<numpy.ndarray object at 0x7fe1227bb030>, peak=0, ev_history=<dict object at 0x7fe1227a9c40>, event_history=<list object at 0x7fe1227a4f40>, schedule_history=None, _iteration=0, _resolve=False, _last_schedule_update=None, last_timestamp=9795, remaining_demand=<numpy.ndarray object at 0x7fe1227bb090>, maximum_charging_power=<numpy.ndarray object at 0x7fe1227bb0f0>, soc=<numpy.ndarray object at 0x7fe1227bb150>, requested_energy=<numpy.ndarray object at 0x7fe1227bb1b0>, times=<numpy.ndarray object at 0x7fe1227bb210>, reward_timesteps=<list object at 0x7fe1227a4fc0>, reward_signals=<dict object at 0x7fe1227b9bc0>),\n",
       "       gymportal.sim.simulators_custom.EvaluationSimulator(network=<gymportal.sim.charging_network_custom.Float32ChargingNetwork object at 0x7fe12295c130>, scheduler=None, max_recompute=None, event_queue=<acnportal.acnsim.events.event_queue.EventQueue object at 0x7fe1227a1b80>, start=<datetime.datetime object at 0x7fe122794a80>, period=1, signals=None, verbose=False, pilot_signals=<numpy.ndarray object at 0x7fe1227bb2d0>, charging_rates=<numpy.ndarray object at 0x7fe1227bb270>, peak=0, ev_history=<dict object at 0x7fe122751e00>, event_history=<list object at 0x7fe122756840>, schedule_history=None, _iteration=0, _resolve=False, _last_schedule_update=None, last_timestamp=9744, remaining_demand=<numpy.ndarray object at 0x7fe1227bb330>, maximum_charging_power=<numpy.ndarray object at 0x7fe1227bb390>, soc=<numpy.ndarray object at 0x7fe1227bb3f0>, requested_energy=<numpy.ndarray object at 0x7fe1227bb450>, times=<numpy.ndarray object at 0x7fe1227bb4b0>, reward_timesteps=<list object at 0x7fe1227567c0>, reward_signals=<dict object at 0x7fe12275ab40>),\n",
       "       gymportal.sim.simulators_custom.EvaluationSimulator(network=<gymportal.sim.charging_network_custom.Float32ChargingNetwork object at 0x7fe12295c130>, scheduler=None, max_recompute=None, event_queue=<acnportal.acnsim.events.event_queue.EventQueue object at 0x7fe1227f0c40>, start=<datetime.datetime object at 0x7fe1227b85d0>, period=1, signals=None, verbose=False, pilot_signals=<numpy.ndarray object at 0x7fe1227bb570>, charging_rates=<numpy.ndarray object at 0x7fe1227bb510>, peak=0, ev_history=<dict object at 0x7fe122774380>, event_history=<list object at 0x7fe12276fac0>, schedule_history=None, _iteration=0, _resolve=False, _last_schedule_update=None, last_timestamp=9629, remaining_demand=<numpy.ndarray object at 0x7fe1227bb5d0>, maximum_charging_power=<numpy.ndarray object at 0x7fe1227bb630>, soc=<numpy.ndarray object at 0x7fe1227bb690>, requested_energy=<numpy.ndarray object at 0x7fe1227bb6f0>, times=<numpy.ndarray object at 0x7fe1227bb750>, reward_timesteps=<list object at 0x7fe12276fb40>, reward_signals=<dict object at 0x7fe122780fc0>),\n",
       "       gymportal.sim.simulators_custom.EvaluationSimulator(network=<gymportal.sim.charging_network_custom.Float32ChargingNetwork object at 0x7fe12295c130>, scheduler=None, max_recompute=None, event_queue=<acnportal.acnsim.events.event_queue.EventQueue object at 0x7fe122794fa0>, start=<datetime.datetime object at 0x7fe122758c30>, period=1, signals=None, verbose=False, pilot_signals=<numpy.ndarray object at 0x7fe1227bb810>, charging_rates=<numpy.ndarray object at 0x7fe1227bb7b0>, peak=0, ev_history=<dict object at 0x7fe122712d80>, event_history=<list object at 0x7fe122708ec0>, schedule_history=None, _iteration=0, _resolve=False, _last_schedule_update=None, last_timestamp=9827, remaining_demand=<numpy.ndarray object at 0x7fe1227bb870>, maximum_charging_power=<numpy.ndarray object at 0x7fe1227bb8d0>, soc=<numpy.ndarray object at 0x7fe1227bb930>, requested_energy=<numpy.ndarray object at 0x7fe1227bb990>, times=<numpy.ndarray object at 0x7fe1227bb9f0>, reward_timesteps=<list object at 0x7fe122708f40>, reward_signals=<dict object at 0x7fe12271ea00>),\n",
       "       gymportal.sim.simulators_custom.EvaluationSimulator(network=<gymportal.sim.charging_network_custom.Float32ChargingNetwork object at 0x7fe12295c130>, scheduler=None, max_recompute=None, event_queue=<acnportal.acnsim.events.event_queue.EventQueue object at 0x7fe1227b8ca0>, start=<datetime.datetime object at 0x7fe12270b810>, period=1, signals=None, verbose=False, pilot_signals=<numpy.ndarray object at 0x7fe1227bbab0>, charging_rates=<numpy.ndarray object at 0x7fe1227bba50>, peak=0, ev_history=<dict object at 0x7fe12273c700>, event_history=<list object at 0x7fe12273c6c0>, schedule_history=None, _iteration=0, _resolve=False, _last_schedule_update=None, last_timestamp=9684, remaining_demand=<numpy.ndarray object at 0x7fe1227bbb10>, maximum_charging_power=<numpy.ndarray object at 0x7fe1227bbb70>, soc=<numpy.ndarray object at 0x7fe1227bbbd0>, requested_energy=<numpy.ndarray object at 0x7fe1227bbc30>, times=<numpy.ndarray object at 0x7fe1227bbc90>, reward_timesteps=<list object at 0x7fe12273c640>, reward_signals=<dict object at 0x7fe1226c8b80>),\n",
       "       gymportal.sim.simulators_custom.EvaluationSimulator(network=<gymportal.sim.charging_network_custom.Float32ChargingNetwork object at 0x7fe12295c130>, scheduler=None, max_recompute=None, event_queue=<acnportal.acnsim.events.event_queue.EventQueue object at 0x7fe12275d340>, start=<datetime.datetime object at 0x7fe12271d900>, period=1, signals=None, verbose=False, pilot_signals=<numpy.ndarray object at 0x7fe1227bbcf0>, charging_rates=<numpy.ndarray object at 0x7fe1227bbd50>, peak=0, ev_history=<dict object at 0x7fe1226e7940>, event_history=<list object at 0x7fe1226edf40>, schedule_history=None, _iteration=0, _resolve=False, _last_schedule_update=None, last_timestamp=9702, remaining_demand=<numpy.ndarray object at 0x7fe1227bbdb0>, maximum_charging_power=<numpy.ndarray object at 0x7fe1227bbe10>, soc=<numpy.ndarray object at 0x7fe1227bbe70>, requested_energy=<numpy.ndarray object at 0x7fe1227bbed0>, times=<numpy.ndarray object at 0x7fe1227bbf30>, reward_timesteps=<list object at 0x7fe1226edec0>, reward_signals=<dict object at 0x7fe1226f3500>),\n",
       "       gymportal.sim.simulators_custom.EvaluationSimulator(network=<gymportal.sim.charging_network_custom.Float32ChargingNetwork object at 0x7fe12295c130>, scheduler=None, max_recompute=None, event_queue=<acnportal.acnsim.events.event_queue.EventQueue object at 0x7fe12277dd30>, start=<datetime.datetime object at 0x7fe1226c69f0>, period=1, signals=None, verbose=False, pilot_signals=<numpy.ndarray object at 0x7fe1227bbf90>, charging_rates=<numpy.ndarray object at 0x7fe122696030>, peak=0, ev_history=<dict object at 0x7fe12268a840>, event_history=<list object at 0x7fe122687300>, schedule_history=None, _iteration=0, _resolve=False, _last_schedule_update=None, last_timestamp=9795, remaining_demand=<numpy.ndarray object at 0x7fe122696090>, maximum_charging_power=<numpy.ndarray object at 0x7fe1226960f0>, soc=<numpy.ndarray object at 0x7fe122696150>, requested_energy=<numpy.ndarray object at 0x7fe1226961b0>, times=<numpy.ndarray object at 0x7fe122696210>, reward_timesteps=<list object at 0x7fe122687380>, reward_signals=<dict object at 0x7fe122693f40>),\n",
       "       gymportal.sim.simulators_custom.EvaluationSimulator(network=<gymportal.sim.charging_network_custom.Float32ChargingNetwork object at 0x7fe12295c130>, scheduler=None, max_recompute=None, event_queue=<acnportal.acnsim.events.event_queue.EventQueue object at 0x7fe12271dd00>, start=<datetime.datetime object at 0x7fe1226f2360>, period=1, signals=None, verbose=False, pilot_signals=<numpy.ndarray object at 0x7fe122696270>, charging_rates=<numpy.ndarray object at 0x7fe1226962d0>, peak=0, ev_history=<dict object at 0x7fe1226b04c0>, event_history=<list object at 0x7fe1226b8b00>, schedule_history=None, _iteration=0, _resolve=False, _last_schedule_update=None, last_timestamp=9709, remaining_demand=<numpy.ndarray object at 0x7fe122696330>, maximum_charging_power=<numpy.ndarray object at 0x7fe122696390>, soc=<numpy.ndarray object at 0x7fe1226963f0>, requested_energy=<numpy.ndarray object at 0x7fe122696450>, times=<numpy.ndarray object at 0x7fe1226964b0>, reward_timesteps=<list object at 0x7fe1226b8a80>, reward_signals=<dict object at 0x7fe1226c1080>),\n",
       "       gymportal.sim.simulators_custom.EvaluationSimulator(network=<gymportal.sim.charging_network_custom.Float32ChargingNetwork object at 0x7fe12295c130>, scheduler=None, max_recompute=None, event_queue=<acnportal.acnsim.events.event_queue.EventQueue object at 0x7fe1226df9a0>, start=<datetime.datetime object at 0x7fe122691f00>, period=1, signals=None, verbose=False, pilot_signals=<numpy.ndarray object at 0x7fe122696510>, charging_rates=<numpy.ndarray object at 0x7fe122696570>, peak=0, ev_history=<dict object at 0x7fe12265a3c0>, event_history=<list object at 0x7fe122651dc0>, schedule_history=None, _iteration=0, _resolve=False, _last_schedule_update=None, last_timestamp=5486, remaining_demand=<numpy.ndarray object at 0x7fe1226965d0>, maximum_charging_power=<numpy.ndarray object at 0x7fe122696630>, soc=<numpy.ndarray object at 0x7fe122696690>, requested_energy=<numpy.ndarray object at 0x7fe1226966f0>, times=<numpy.ndarray object at 0x7fe122696750>, reward_timesteps=<list object at 0x7fe122651e40>, reward_signals=<dict object at 0x7fe122666280>),\n",
       "       gymportal.sim.simulators_custom.EvaluationSimulator(network=<gymportal.sim.charging_network_custom.Float32ChargingNetwork object at 0x7fe12295c130>, scheduler=None, max_recompute=None, event_queue=<acnportal.acnsim.events.event_queue.EventQueue object at 0x7fe1226f2310>, start=<datetime.datetime object at 0x7fe1226bdd80>, period=1, signals=None, verbose=False, pilot_signals=<numpy.ndarray object at 0x7fe1226967b0>, charging_rates=<numpy.ndarray object at 0x7fe122696810>, peak=0, ev_history=<dict object at 0x7fe12267d3c0>, event_history=<list object at 0x7fe1226037c0>, schedule_history=None, _iteration=0, _resolve=False, _last_schedule_update=None, last_timestamp=9751, remaining_demand=<numpy.ndarray object at 0x7fe122696870>, maximum_charging_power=<numpy.ndarray object at 0x7fe1226968d0>, soc=<numpy.ndarray object at 0x7fe122696930>, requested_energy=<numpy.ndarray object at 0x7fe122696990>, times=<numpy.ndarray object at 0x7fe1226969f0>, reward_timesteps=<list object at 0x7fe122603740>, reward_signals=<dict object at 0x7fe122603f40>),\n",
       "       gymportal.sim.simulators_custom.EvaluationSimulator(network=<gymportal.sim.charging_network_custom.Float32ChargingNetwork object at 0x7fe12295c130>, scheduler=None, max_recompute=None, event_queue=<acnportal.acnsim.events.event_queue.EventQueue object at 0x7fe122691ee0>, start=<datetime.datetime object at 0x7fe122672510>, period=1, signals=None, verbose=False, pilot_signals=<numpy.ndarray object at 0x7fe122696a50>, charging_rates=<numpy.ndarray object at 0x7fe122696ab0>, peak=0, ev_history=<dict object at 0x7fe122628780>, event_history=<list object at 0x7fe12261bac0>, schedule_history=None, _iteration=0, _resolve=False, _last_schedule_update=None, last_timestamp=9695, remaining_demand=<numpy.ndarray object at 0x7fe122696b10>, maximum_charging_power=<numpy.ndarray object at 0x7fe122696b70>, soc=<numpy.ndarray object at 0x7fe122696bd0>, requested_energy=<numpy.ndarray object at 0x7fe122696c30>, times=<numpy.ndarray object at 0x7fe122696c90>, reward_timesteps=<list object at 0x7fe12261bb40>, reward_signals=<dict object at 0x7fe122633400>),\n",
       "       gymportal.sim.simulators_custom.EvaluationSimulator(network=<gymportal.sim.charging_network_custom.Float32ChargingNetwork object at 0x7fe12295c130>, scheduler=None, max_recompute=None, event_queue=<acnportal.acnsim.events.event_queue.EventQueue object at 0x7fe122655ee0>, start=<datetime.datetime object at 0x7fe122605300>, period=1, signals=None, verbose=False, pilot_signals=<numpy.ndarray object at 0x7fe122696d50>, charging_rates=<numpy.ndarray object at 0x7fe122696cf0>, peak=0, ev_history=<dict object at 0x7fe1225d4100>, event_history=<list object at 0x7fe1225cf240>, schedule_history=None, _iteration=0, _resolve=False, _last_schedule_update=None, last_timestamp=9698, remaining_demand=<numpy.ndarray object at 0x7fe122696db0>, maximum_charging_power=<numpy.ndarray object at 0x7fe122696e10>, soc=<numpy.ndarray object at 0x7fe122696e70>, requested_energy=<numpy.ndarray object at 0x7fe122696ed0>, times=<numpy.ndarray object at 0x7fe122696f30>, reward_timesteps=<list object at 0x7fe1225cf1c0>, reward_signals=<dict object at 0x7fe1225de140>),\n",
       "       gymportal.sim.simulators_custom.EvaluationSimulator(network=<gymportal.sim.charging_network_custom.Float32ChargingNetwork object at 0x7fe12295c130>, scheduler=None, max_recompute=None, event_queue=<acnportal.acnsim.events.event_queue.EventQueue object at 0x7fe122661d30>, start=<datetime.datetime object at 0x7fe122630cf0>, period=1, signals=None, verbose=False, pilot_signals=<numpy.ndarray object at 0x7fe122696f90>, charging_rates=<numpy.ndarray object at 0x7fe1225f9030>, peak=0, ev_history=<dict object at 0x7fe1225f0900>, event_history=<list object at 0x7fe1225e7580>, schedule_history=None, _iteration=0, _resolve=False, _last_schedule_update=None, last_timestamp=9687, remaining_demand=<numpy.ndarray object at 0x7fe1225f9090>, maximum_charging_power=<numpy.ndarray object at 0x7fe1225f90f0>, soc=<numpy.ndarray object at 0x7fe1225f9150>, requested_energy=<numpy.ndarray object at 0x7fe1225f91b0>, times=<numpy.ndarray object at 0x7fe1225f9210>, reward_timesteps=<list object at 0x7fe1225e7600>, reward_signals=<dict object at 0x7fe1225f8280>),\n",
       "       gymportal.sim.simulators_custom.EvaluationSimulator(network=<gymportal.sim.charging_network_custom.Float32ChargingNetwork object at 0x7fe12295c130>, scheduler=None, max_recompute=None, event_queue=<acnportal.acnsim.events.event_queue.EventQueue object at 0x7fe122618760>, start=<datetime.datetime object at 0x7fe1225e88d0>, period=1, signals=None, verbose=False, pilot_signals=<numpy.ndarray object at 0x7fe1225f9270>, charging_rates=<numpy.ndarray object at 0x7fe1225f92d0>, peak=0, ev_history=<dict object at 0x7fe122583680>, event_history=<list object at 0x7fe1225ffa00>, schedule_history=None, _iteration=0, _resolve=False, _last_schedule_update=None, last_timestamp=5378, remaining_demand=<numpy.ndarray object at 0x7fe1225f9330>, maximum_charging_power=<numpy.ndarray object at 0x7fe1225f9390>, soc=<numpy.ndarray object at 0x7fe1225f93f0>, requested_energy=<numpy.ndarray object at 0x7fe1225f9450>, times=<numpy.ndarray object at 0x7fe1225f94b0>, reward_timesteps=<list object at 0x7fe1225ffa80>, reward_signals=<dict object at 0x7fe122589900>),\n",
       "       gymportal.sim.simulators_custom.EvaluationSimulator(network=<gymportal.sim.charging_network_custom.Float32ChargingNetwork object at 0x7fe12295c130>, scheduler=None, max_recompute=None, event_queue=<acnportal.acnsim.events.event_queue.EventQueue object at 0x7fe122630b50>, start=<datetime.datetime object at 0x7fe1225f3f00>, period=1, signals=None, verbose=False, pilot_signals=<numpy.ndarray object at 0x7fe1225f9570>, charging_rates=<numpy.ndarray object at 0x7fe1225f9510>, peak=0, ev_history=<dict object at 0x7fe122589b00>, event_history=<list object at 0x7fe1225ffa40>, schedule_history=None, _iteration=0, _resolve=False, _last_schedule_update=None, last_timestamp=1049, remaining_demand=<numpy.ndarray object at 0x7fe1225f95d0>, maximum_charging_power=<numpy.ndarray object at 0x7fe1225f9630>, soc=<numpy.ndarray object at 0x7fe1225f9690>, requested_energy=<numpy.ndarray object at 0x7fe1225f96f0>, times=<numpy.ndarray object at 0x7fe1225f9750>, reward_timesteps=<list object at 0x7fe1225ff9c0>, reward_signals=<dict object at 0x7fe122592340>),\n",
       "       gymportal.sim.simulators_custom.EvaluationSimulator(network=<gymportal.sim.charging_network_custom.Float32ChargingNetwork object at 0x7fe12295c130>, scheduler=None, max_recompute=None, event_queue=<acnportal.acnsim.events.event_queue.EventQueue object at 0x7fe1225db7f0>, start=<datetime.datetime object at 0x7fe1225889f0>, period=1, signals=None, verbose=False, pilot_signals=<numpy.ndarray object at 0x7fe1225f97b0>, charging_rates=<numpy.ndarray object at 0x7fe1225f9810>, peak=0, ev_history=<dict object at 0x7fe1225a5ac0>, event_history=<list object at 0x7fe122936680>, schedule_history=None, _iteration=0, _resolve=False, _last_schedule_update=None, last_timestamp=5501, remaining_demand=<numpy.ndarray object at 0x7fe1225f9870>, maximum_charging_power=<numpy.ndarray object at 0x7fe1225f98d0>, soc=<numpy.ndarray object at 0x7fe1225f9930>, requested_energy=<numpy.ndarray object at 0x7fe1225f9990>, times=<numpy.ndarray object at 0x7fe1225f99f0>, reward_timesteps=<list object at 0x7fe12259af00>, reward_signals=<dict object at 0x7fe1225b1b00>),\n",
       "       gymportal.sim.simulators_custom.EvaluationSimulator(network=<gymportal.sim.charging_network_custom.Float32ChargingNetwork object at 0x7fe12295c130>, scheduler=None, max_recompute=None, event_queue=<acnportal.acnsim.events.event_queue.EventQueue object at 0x7fe1226019a0>, start=<datetime.datetime object at 0x7fe12258ded0>, period=1, signals=None, verbose=False, pilot_signals=<numpy.ndarray object at 0x7fe1225f9ab0>, charging_rates=<numpy.ndarray object at 0x7fe1225f9a50>, peak=0, ev_history=<dict object at 0x7fe1225c0880>, event_history=<list object at 0x7fe1225b33c0>, schedule_history=None, _iteration=0, _resolve=False, _last_schedule_update=None, last_timestamp=7792, remaining_demand=<numpy.ndarray object at 0x7fe1225f9b10>, maximum_charging_power=<numpy.ndarray object at 0x7fe1225f9b70>, soc=<numpy.ndarray object at 0x7fe1225f9bd0>, requested_energy=<numpy.ndarray object at 0x7fe1225f9c30>, times=<numpy.ndarray object at 0x7fe1225f9c90>, reward_timesteps=<list object at 0x7fe1225b3440>, reward_signals=<dict object at 0x7fe122546800>),\n",
       "       gymportal.sim.simulators_custom.EvaluationSimulator(network=<gymportal.sim.charging_network_custom.Float32ChargingNetwork object at 0x7fe12295c130>, scheduler=None, max_recompute=None, event_queue=<acnportal.acnsim.events.event_queue.EventQueue object at 0x7fe122588a30>, start=<datetime.datetime object at 0x7fe1225b2390>, period=1, signals=None, verbose=False, pilot_signals=<numpy.ndarray object at 0x7fe1225f9d50>, charging_rates=<numpy.ndarray object at 0x7fe1225f9cf0>, peak=0, ev_history=<dict object at 0x7fe12254e100>, event_history=<list object at 0x7fe12254c780>, schedule_history=None, _iteration=0, _resolve=False, _last_schedule_update=None, last_timestamp=5360, remaining_demand=<numpy.ndarray object at 0x7fe1225f9db0>, maximum_charging_power=<numpy.ndarray object at 0x7fe1225f9e10>, soc=<numpy.ndarray object at 0x7fe1225f9e70>, requested_energy=<numpy.ndarray object at 0x7fe1225f9ed0>, times=<numpy.ndarray object at 0x7fe1225f9f30>, reward_timesteps=<list object at 0x7fe12254c800>, reward_signals=<dict object at 0x7fe122557140>),\n",
       "       gymportal.sim.simulators_custom.EvaluationSimulator(network=<gymportal.sim.charging_network_custom.Float32ChargingNetwork object at 0x7fe12295c130>, scheduler=None, max_recompute=None, event_queue=<acnportal.acnsim.events.event_queue.EventQueue object at 0x7fe122588be0>, start=<datetime.datetime object at 0x7fe122544930>, period=1, signals=None, verbose=False, pilot_signals=<numpy.ndarray object at 0x7fe1225f9f90>, charging_rates=<numpy.ndarray object at 0x7fe12256d030>, peak=0, ev_history=<dict object at 0x7fe12255e940>, event_history=<list object at 0x7fe122563b80>, schedule_history=None, _iteration=0, _resolve=False, _last_schedule_update=None, last_timestamp=9712, remaining_demand=<numpy.ndarray object at 0x7fe12256d090>, maximum_charging_power=<numpy.ndarray object at 0x7fe12256d0f0>, soc=<numpy.ndarray object at 0x7fe12256d150>, requested_energy=<numpy.ndarray object at 0x7fe12256d1b0>, times=<numpy.ndarray object at 0x7fe12256d210>, reward_timesteps=<list object at 0x7fe122563c00>, reward_signals=<dict object at 0x7fe12256c500>),\n",
       "       gymportal.sim.simulators_custom.EvaluationSimulator(network=<gymportal.sim.charging_network_custom.Float32ChargingNetwork object at 0x7fe12295c130>, scheduler=None, max_recompute=None, event_queue=<acnportal.acnsim.events.event_queue.EventQueue object at 0x7fe1225b2fa0>, start=<datetime.datetime object at 0x7fe122556300>, period=1, signals=None, verbose=False, pilot_signals=<numpy.ndarray object at 0x7fe12256d270>, charging_rates=<numpy.ndarray object at 0x7fe12256d2d0>, peak=0, ev_history=<dict object at 0x7fe122571fc0>, event_history=<list object at 0x7fe122563bc0>, schedule_history=None, _iteration=0, _resolve=False, _last_schedule_update=None, last_timestamp=4154, remaining_demand=<numpy.ndarray object at 0x7fe12256d330>, maximum_charging_power=<numpy.ndarray object at 0x7fe12256d390>, soc=<numpy.ndarray object at 0x7fe12256d3f0>, requested_energy=<numpy.ndarray object at 0x7fe12256d450>, times=<numpy.ndarray object at 0x7fe12256d4b0>, reward_timesteps=<list object at 0x7fe122563b40>, reward_signals=<dict object at 0x7fe12257dd00>),\n",
       "       gymportal.sim.simulators_custom.EvaluationSimulator(network=<gymportal.sim.charging_network_custom.Float32ChargingNetwork object at 0x7fe12295c130>, scheduler=None, max_recompute=None, event_queue=<acnportal.acnsim.events.event_queue.EventQueue object at 0x7fe122544730>, start=<datetime.datetime object at 0x7fe122568e10>, period=1, signals=None, verbose=False, pilot_signals=<numpy.ndarray object at 0x7fe12256d510>, charging_rates=<numpy.ndarray object at 0x7fe12256d570>, peak=0, ev_history=<dict object at 0x7fe122509600>, event_history=<list object at 0x7fe12259ae40>, schedule_history=None, _iteration=0, _resolve=False, _last_schedule_update=None, last_timestamp=9794, remaining_demand=<numpy.ndarray object at 0x7fe12256d5d0>, maximum_charging_power=<numpy.ndarray object at 0x7fe12256d630>, soc=<numpy.ndarray object at 0x7fe12256d690>, requested_energy=<numpy.ndarray object at 0x7fe12256d6f0>, times=<numpy.ndarray object at 0x7fe12256d750>, reward_timesteps=<list object at 0x7fe12257e100>, reward_signals=<dict object at 0x7fe1225147c0>),\n",
       "       gymportal.sim.simulators_custom.EvaluationSimulator(network=<gymportal.sim.charging_network_custom.Float32ChargingNetwork object at 0x7fe12295c130>, scheduler=None, max_recompute=None, event_queue=<acnportal.acnsim.events.event_queue.EventQueue object at 0x7fe122544790>, start=<datetime.datetime object at 0x7fe12257af30>, period=1, signals=None, verbose=False, pilot_signals=<numpy.ndarray object at 0x7fe12256d7b0>, charging_rates=<numpy.ndarray object at 0x7fe12256d810>, peak=0, ev_history=<dict object at 0x7fe12251cdc0>, event_history=<list object at 0x7fe1225165c0>, schedule_history=None, _iteration=0, _resolve=False, _last_schedule_update=None, last_timestamp=5375, remaining_demand=<numpy.ndarray object at 0x7fe12256d870>, maximum_charging_power=<numpy.ndarray object at 0x7fe12256d8d0>, soc=<numpy.ndarray object at 0x7fe12256d930>, requested_energy=<numpy.ndarray object at 0x7fe12256d990>, times=<numpy.ndarray object at 0x7fe12256d9f0>, reward_timesteps=<list object at 0x7fe122516640>, reward_signals=<dict object at 0x7fe12252b8c0>),\n",
       "       gymportal.sim.simulators_custom.EvaluationSimulator(network=<gymportal.sim.charging_network_custom.Float32ChargingNetwork object at 0x7fe12295c130>, scheduler=None, max_recompute=None, event_queue=<acnportal.acnsim.events.event_queue.EventQueue object at 0x7fe122568c10>, start=<datetime.datetime object at 0x7fe1225137b0>, period=1, signals=None, verbose=False, pilot_signals=<numpy.ndarray object at 0x7fe12256da50>, charging_rates=<numpy.ndarray object at 0x7fe12256dab0>, peak=0, ev_history=<dict object at 0x7fe1225423c0>, event_history=<list object at 0x7fe12252e9c0>, schedule_history=None, _iteration=0, _resolve=False, _last_schedule_update=None, last_timestamp=9459, remaining_demand=<numpy.ndarray object at 0x7fe12256db10>, maximum_charging_power=<numpy.ndarray object at 0x7fe12256db70>, soc=<numpy.ndarray object at 0x7fe12256dbd0>, requested_energy=<numpy.ndarray object at 0x7fe12256dc30>, times=<numpy.ndarray object at 0x7fe12256dc90>, reward_timesteps=<list object at 0x7fe12252e900>, reward_signals=<dict object at 0x7fe1224c8640>),\n",
       "       gymportal.sim.simulators_custom.EvaluationSimulator(network=<gymportal.sim.charging_network_custom.Float32ChargingNetwork object at 0x7fe12295c130>, scheduler=None, max_recompute=None, event_queue=<acnportal.acnsim.events.event_queue.EventQueue object at 0x7fe12257a850>, start=<datetime.datetime object at 0x7fe12252c570>, period=1, signals=None, verbose=False, pilot_signals=<numpy.ndarray object at 0x7fe12256dd50>, charging_rates=<numpy.ndarray object at 0x7fe12256dcf0>, peak=0, ev_history=<dict object at 0x7fe1224dc040>, event_history=<list object at 0x7fe1224e2200>, schedule_history=None, _iteration=0, _resolve=False, _last_schedule_update=None, last_timestamp=9762, remaining_demand=<numpy.ndarray object at 0x7fe12256ddb0>, maximum_charging_power=<numpy.ndarray object at 0x7fe12256de10>, soc=<numpy.ndarray object at 0x7fe12256de70>, requested_energy=<numpy.ndarray object at 0x7fe12256ded0>, times=<numpy.ndarray object at 0x7fe12256df30>, reward_timesteps=<list object at 0x7fe1224e2180>, reward_signals=<dict object at 0x7fe1224ec200>),\n",
       "       gymportal.sim.simulators_custom.EvaluationSimulator(network=<gymportal.sim.charging_network_custom.Float32ChargingNetwork object at 0x7fe12295c130>, scheduler=None, max_recompute=None, event_queue=<acnportal.acnsim.events.event_queue.EventQueue object at 0x7fe122513430>, start=<datetime.datetime object at 0x7fe1224c58d0>, period=1, signals=None, verbose=False, pilot_signals=<numpy.ndarray object at 0x7fe12256df90>, charging_rates=<numpy.ndarray object at 0x7fe1224fd030>, peak=0, ev_history=<dict object at 0x7fe1224f7380>, event_history=<list object at 0x7fe1224f9500>, schedule_history=None, _iteration=0, _resolve=False, _last_schedule_update=None, last_timestamp=3922, remaining_demand=<numpy.ndarray object at 0x7fe1224fd090>, maximum_charging_power=<numpy.ndarray object at 0x7fe1224fd0f0>, soc=<numpy.ndarray object at 0x7fe1224fd150>, requested_energy=<numpy.ndarray object at 0x7fe1224fd1b0>, times=<numpy.ndarray object at 0x7fe1224fd210>, reward_timesteps=<list object at 0x7fe1224f9580>, reward_signals=<dict object at 0x7fe1224f9a80>),\n",
       "       gymportal.sim.simulators_custom.EvaluationSimulator(network=<gymportal.sim.charging_network_custom.Float32ChargingNetwork object at 0x7fe12295c130>, scheduler=None, max_recompute=None, event_queue=<acnportal.acnsim.events.event_queue.EventQueue object at 0x7fe1225395e0>, start=<datetime.datetime object at 0x7fe1224e9570>, period=1, signals=None, verbose=False, pilot_signals=<numpy.ndarray object at 0x7fe1224fd2d0>, charging_rates=<numpy.ndarray object at 0x7fe1224fd270>, peak=0, ev_history=<dict object at 0x7fe1224901c0>, event_history=<list object at 0x7fe122493940>, schedule_history=None, _iteration=0, _resolve=False, _last_schedule_update=None, last_timestamp=9796, remaining_demand=<numpy.ndarray object at 0x7fe1224fd330>, maximum_charging_power=<numpy.ndarray object at 0x7fe1224fd390>, soc=<numpy.ndarray object at 0x7fe1224fd3f0>, requested_energy=<numpy.ndarray object at 0x7fe1224fd450>, times=<numpy.ndarray object at 0x7fe1224fd4b0>, reward_timesteps=<list object at 0x7fe1224939c0>, reward_signals=<dict object at 0x7fe122496800>),\n",
       "       gymportal.sim.simulators_custom.EvaluationSimulator(network=<gymportal.sim.charging_network_custom.Float32ChargingNetwork object at 0x7fe12295c130>, scheduler=None, max_recompute=None, event_queue=<acnportal.acnsim.events.event_queue.EventQueue object at 0x7fe1224d7d60>, start=<datetime.datetime object at 0x7fe122483e70>, period=1, signals=None, verbose=False, pilot_signals=<numpy.ndarray object at 0x7fe1224fd510>, charging_rates=<numpy.ndarray object at 0x7fe1224fd570>, peak=0, ev_history=<dict object at 0x7fe1224a0d40>, event_history=<list object at 0x7fe122493980>, schedule_history=None, _iteration=0, _resolve=False, _last_schedule_update=None, last_timestamp=5347, remaining_demand=<numpy.ndarray object at 0x7fe1224fd5d0>, maximum_charging_power=<numpy.ndarray object at 0x7fe1224fd630>, soc=<numpy.ndarray object at 0x7fe1224fd690>, requested_energy=<numpy.ndarray object at 0x7fe1224fd6f0>, times=<numpy.ndarray object at 0x7fe1224fd750>, reward_timesteps=<list object at 0x7fe122493900>, reward_signals=<dict object at 0x7fe1224ac480>),\n",
       "       gymportal.sim.simulators_custom.EvaluationSimulator(network=<gymportal.sim.charging_network_custom.Float32ChargingNetwork object at 0x7fe12295c130>, scheduler=None, max_recompute=None, event_queue=<acnportal.acnsim.events.event_queue.EventQueue object at 0x7fe1224f56a0>, start=<datetime.datetime object at 0x7fe12249ab10>, period=1, signals=None, verbose=False, pilot_signals=<numpy.ndarray object at 0x7fe1224fd810>, charging_rates=<numpy.ndarray object at 0x7fe1224fd7b0>, peak=0, ev_history=<dict object at 0x7fe1224bc6c0>, event_history=<list object at 0x7fe122447280>, schedule_history=None, _iteration=0, _resolve=False, _last_schedule_update=None, last_timestamp=9702, remaining_demand=<numpy.ndarray object at 0x7fe1224fd870>, maximum_charging_power=<numpy.ndarray object at 0x7fe1224fd8d0>, soc=<numpy.ndarray object at 0x7fe1224fd930>, requested_energy=<numpy.ndarray object at 0x7fe1224fd990>, times=<numpy.ndarray object at 0x7fe1224fd9f0>, reward_timesteps=<list object at 0x7fe122447200>, reward_signals=<dict object at 0x7fe122447880>),\n",
       "       gymportal.sim.simulators_custom.EvaluationSimulator(network=<gymportal.sim.charging_network_custom.Float32ChargingNetwork object at 0x7fe12295c130>, scheduler=None, max_recompute=None, event_queue=<acnportal.acnsim.events.event_queue.EventQueue object at 0x7fe122489220>, start=<datetime.datetime object at 0x7fe1224bb4b0>, period=1, signals=None, verbose=False, pilot_signals=<numpy.ndarray object at 0x7fe1224fda50>, charging_rates=<numpy.ndarray object at 0x7fe1224fdab0>, peak=0, ev_history=<dict object at 0x7fe12245c2c0>, event_history=<list object at 0x7fe12245f500>, schedule_history=None, _iteration=0, _resolve=False, _last_schedule_update=None, last_timestamp=9737, remaining_demand=<numpy.ndarray object at 0x7fe1224fdb10>, maximum_charging_power=<numpy.ndarray object at 0x7fe1224fdb70>, soc=<numpy.ndarray object at 0x7fe1224fdbd0>, requested_energy=<numpy.ndarray object at 0x7fe1224fdc30>, times=<numpy.ndarray object at 0x7fe1224fdc90>, reward_timesteps=<list object at 0x7fe12245f580>, reward_signals=<dict object at 0x7fe122462180>),\n",
       "       gymportal.sim.simulators_custom.EvaluationSimulator(network=<gymportal.sim.charging_network_custom.Float32ChargingNetwork object at 0x7fe12295c130>, scheduler=None, max_recompute=None, event_queue=<acnportal.acnsim.events.event_queue.EventQueue object at 0x7fe1224946a0>, start=<datetime.datetime object at 0x7fe122446480>, period=1, signals=None, verbose=False, pilot_signals=<numpy.ndarray object at 0x7fe1224fdd50>, charging_rates=<numpy.ndarray object at 0x7fe1224fdcf0>, peak=0, ev_history=<dict object at 0x7fe122465d40>, event_history=<list object at 0x7fe12245f540>, schedule_history=None, _iteration=0, _resolve=False, _last_schedule_update=None, last_timestamp=5374, remaining_demand=<numpy.ndarray object at 0x7fe1224fddb0>, maximum_charging_power=<numpy.ndarray object at 0x7fe1224fde10>, soc=<numpy.ndarray object at 0x7fe1224fde70>, requested_energy=<numpy.ndarray object at 0x7fe1224fded0>, times=<numpy.ndarray object at 0x7fe1224fdf30>, reward_timesteps=<list object at 0x7fe12245f4c0>, reward_signals=<dict object at 0x7fe12246cfc0>),\n",
       "       gymportal.sim.simulators_custom.EvaluationSimulator(network=<gymportal.sim.charging_network_custom.Float32ChargingNetwork object at 0x7fe12295c130>, scheduler=None, max_recompute=None, event_queue=<acnportal.acnsim.events.event_queue.EventQueue object at 0x7fe122494670>, start=<datetime.datetime object at 0x7fe1224607e0>, period=1, signals=None, verbose=False, pilot_signals=<numpy.ndarray object at 0x7fe1224fdf90>, charging_rates=<numpy.ndarray object at 0x7fe12240e030>, peak=0, ev_history=<dict object at 0x7fe122405200>, event_history=<list object at 0x7fe1224ace00>, schedule_history=None, _iteration=0, _resolve=False, _last_schedule_update=None, last_timestamp=9629, remaining_demand=<numpy.ndarray object at 0x7fe12240e090>, maximum_charging_power=<numpy.ndarray object at 0x7fe12240e0f0>, soc=<numpy.ndarray object at 0x7fe12240e150>, requested_energy=<numpy.ndarray object at 0x7fe12240e1b0>, times=<numpy.ndarray object at 0x7fe12240e210>, reward_timesteps=<list object at 0x7fe1224779c0>, reward_signals=<dict object at 0x7fe12240d480>),\n",
       "       gymportal.sim.simulators_custom.EvaluationSimulator(network=<gymportal.sim.charging_network_custom.Float32ChargingNetwork object at 0x7fe12295c130>, scheduler=None, max_recompute=None, event_queue=<acnportal.acnsim.events.event_queue.EventQueue object at 0x7fe12245a9a0>, start=<datetime.datetime object at 0x7fe12246d690>, period=1, signals=None, verbose=False, pilot_signals=<numpy.ndarray object at 0x7fe12240e2d0>, charging_rates=<numpy.ndarray object at 0x7fe12240e270>, peak=0, ev_history=<dict object at 0x7fe122417d80>, event_history=<list object at 0x7fe122411d40>, schedule_history=None, _iteration=0, _resolve=False, _last_schedule_update=None, last_timestamp=5353, remaining_demand=<numpy.ndarray object at 0x7fe12240e330>, maximum_charging_power=<numpy.ndarray object at 0x7fe12240e390>, soc=<numpy.ndarray object at 0x7fe12240e3f0>, requested_energy=<numpy.ndarray object at 0x7fe12240e450>, times=<numpy.ndarray object at 0x7fe12240e4b0>, reward_timesteps=<list object at 0x7fe122411dc0>, reward_signals=<dict object at 0x7fe122420a00>),\n",
       "       gymportal.sim.simulators_custom.EvaluationSimulator(network=<gymportal.sim.charging_network_custom.Float32ChargingNetwork object at 0x7fe12295c130>, scheduler=None, max_recompute=None, event_queue=<acnportal.acnsim.events.event_queue.EventQueue object at 0x7fe1224607c0>, start=<datetime.datetime object at 0x7fe12240c780>, period=1, signals=None, verbose=False, pilot_signals=<numpy.ndarray object at 0x7fe12240e510>, charging_rates=<numpy.ndarray object at 0x7fe12240e570>, peak=0, ev_history=<dict object at 0x7fe122427500>, event_history=<list object at 0x7fe122411d80>, schedule_history=None, _iteration=0, _resolve=False, _last_schedule_update=None, last_timestamp=3564, remaining_demand=<numpy.ndarray object at 0x7fe12240e5d0>, maximum_charging_power=<numpy.ndarray object at 0x7fe12240e630>, soc=<numpy.ndarray object at 0x7fe12240e690>, requested_energy=<numpy.ndarray object at 0x7fe12240e6f0>, times=<numpy.ndarray object at 0x7fe12240e750>, reward_timesteps=<list object at 0x7fe122411d00>, reward_signals=<dict object at 0x7fe122429900>),\n",
       "       gymportal.sim.simulators_custom.EvaluationSimulator(network=<gymportal.sim.charging_network_custom.Float32ChargingNetwork object at 0x7fe12295c130>, scheduler=None, max_recompute=None, event_queue=<acnportal.acnsim.events.event_queue.EventQueue object at 0x7fe1224609a0>, start=<datetime.datetime object at 0x7fe12241fab0>, period=1, signals=None, verbose=False, pilot_signals=<numpy.ndarray object at 0x7fe12240e810>, charging_rates=<numpy.ndarray object at 0x7fe12240e7b0>, peak=0, ev_history=<dict object at 0x7fe12243b780>, event_history=<list object at 0x7fe122477900>, schedule_history=None, _iteration=0, _resolve=False, _last_schedule_update=None, last_timestamp=9660, remaining_demand=<numpy.ndarray object at 0x7fe12240e870>, maximum_charging_power=<numpy.ndarray object at 0x7fe12240e8d0>, soc=<numpy.ndarray object at 0x7fe12240e930>, requested_energy=<numpy.ndarray object at 0x7fe12240e990>, times=<numpy.ndarray object at 0x7fe12240e9f0>, reward_timesteps=<list object at 0x7fe12242d440>, reward_signals=<dict object at 0x7fe1223c4100>)],\n",
       "      dtype=object)"
      ]
     },
     "execution_count": 13,
     "metadata": {},
     "output_type": "execute_result"
    }
   ],
   "source": [
    "assert None not in env.unwrapped.simgenerator._sim_memory, \"_sim_memory is not fully initialized!\""
   ]
  },
  {
   "cell_type": "code",
   "execution_count": null,
   "metadata": {},
   "outputs": [],
   "source": [
    "env.reset(seed=env.env.simgenerator.seed)\n",
    "assert None not in env.unwrapped.simgenerator._sim_memory, \"_sim_memory was overwritten after resetting the environment!\""
   ]
  }
 ],
 "metadata": {
  "kernelspec": {
   "display_name": "Python 3",
   "language": "python",
   "name": "python3"
  },
  "language_info": {
   "codemirror_mode": {
    "name": "ipython",
    "version": 3
   },
   "file_extension": ".py",
   "mimetype": "text/x-python",
   "name": "python",
   "nbconvert_exporter": "python",
   "pygments_lexer": "ipython3",
   "version": "3.9.18"
  }
 },
 "nbformat": 4,
 "nbformat_minor": 4
}
